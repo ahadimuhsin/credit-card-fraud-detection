{
 "cells": [
  {
   "cell_type": "code",
   "execution_count": 1,
   "metadata": {},
   "outputs": [],
   "source": [
    "import pandas as pd\n",
    "import numpy as np\n",
    "from collections import Counter\n",
    "from sklearn.svm import SVC\n",
    "from sklearn.metrics import precision_score, recall_score, f1_score, roc_auc_score, accuracy_score, classification_report\n",
    "from imblearn.metrics import geometric_mean_score\n",
    "from sklearn.model_selection import train_test_split\n",
    "import matplotlib.pyplot as plt\n",
    "from matplotlib.lines import Line2D"
   ]
  },
  {
   "cell_type": "code",
   "execution_count": 2,
   "metadata": {},
   "outputs": [],
   "source": [
    "def plot_decision_function(X, y, clf, ax):\n",
    "    plot_step = 0.02\n",
    "    x_min, x_max = X[:, 0].min() - 1, X[:, 0].max() + 1\n",
    "    y_min, y_max = X[:, 1].min() - 1, X[:, 1].max() + 1\n",
    "    xx, yy = np.meshgrid(np.arange(x_min, x_max, plot_step), \n",
    "                         np.arange(y_min, y_max, plot_step))\n",
    "    Z = clf.predict(np.c_[xx.ravel(), yy.ravel()])\n",
    "    Z = Z.reshape(xx.shape)\n",
    "    ax.contourf(xx, yy, Z, alpha=0.4)\n",
    "    ax.scatter(X[:, 0], X[:, 1], alpha=0.8, c=y, edgecolor='k')"
   ]
  },
  {
   "cell_type": "code",
   "execution_count": 3,
   "metadata": {},
   "outputs": [
    {
     "data": {
      "text/plain": [
       "(9822, 86)"
      ]
     },
     "execution_count": 3,
     "metadata": {},
     "output_type": "execute_result"
    }
   ],
   "source": [
    "dataset =pd.read_csv('caravan-insurance-challenge.csv', sep=',')\n",
    "dataset.shape\n",
    "# dataset"
   ]
  },
  {
   "cell_type": "code",
   "execution_count": 4,
   "metadata": {},
   "outputs": [
    {
     "data": {
      "text/html": [
       "<div>\n",
       "<style scoped>\n",
       "    .dataframe tbody tr th:only-of-type {\n",
       "        vertical-align: middle;\n",
       "    }\n",
       "\n",
       "    .dataframe tbody tr th {\n",
       "        vertical-align: top;\n",
       "    }\n",
       "\n",
       "    .dataframe thead th {\n",
       "        text-align: right;\n",
       "    }\n",
       "</style>\n",
       "<table border=\"1\" class=\"dataframe\">\n",
       "  <thead>\n",
       "    <tr style=\"text-align: right;\">\n",
       "      <th></th>\n",
       "      <th>MOSTYPE</th>\n",
       "      <th>MAANTHUI</th>\n",
       "      <th>MGEMOMV</th>\n",
       "      <th>MGEMLEEF</th>\n",
       "      <th>MOSHOOFD</th>\n",
       "      <th>MGODRK</th>\n",
       "      <th>MGODPR</th>\n",
       "      <th>MGODOV</th>\n",
       "      <th>MGODGE</th>\n",
       "      <th>MRELGE</th>\n",
       "      <th>...</th>\n",
       "      <th>APERSONG</th>\n",
       "      <th>AGEZONG</th>\n",
       "      <th>AWAOREG</th>\n",
       "      <th>ABRAND</th>\n",
       "      <th>AZEILPL</th>\n",
       "      <th>APLEZIER</th>\n",
       "      <th>AFIETS</th>\n",
       "      <th>AINBOED</th>\n",
       "      <th>ABYSTAND</th>\n",
       "      <th>CARAVAN</th>\n",
       "    </tr>\n",
       "  </thead>\n",
       "  <tbody>\n",
       "    <tr>\n",
       "      <th>count</th>\n",
       "      <td>9822.000000</td>\n",
       "      <td>9822.000000</td>\n",
       "      <td>9822.000000</td>\n",
       "      <td>9822.000000</td>\n",
       "      <td>9822.000000</td>\n",
       "      <td>9822.000000</td>\n",
       "      <td>9822.000000</td>\n",
       "      <td>9822.000000</td>\n",
       "      <td>9822.000000</td>\n",
       "      <td>9822.000000</td>\n",
       "      <td>...</td>\n",
       "      <td>9822.000000</td>\n",
       "      <td>9822.000000</td>\n",
       "      <td>9822.000000</td>\n",
       "      <td>9822.000000</td>\n",
       "      <td>9822.000000</td>\n",
       "      <td>9822.000000</td>\n",
       "      <td>9822.000000</td>\n",
       "      <td>9822.000000</td>\n",
       "      <td>9822.000000</td>\n",
       "      <td>9822.000000</td>\n",
       "    </tr>\n",
       "    <tr>\n",
       "      <th>mean</th>\n",
       "      <td>24.253207</td>\n",
       "      <td>1.108735</td>\n",
       "      <td>2.677561</td>\n",
       "      <td>2.996437</td>\n",
       "      <td>5.779067</td>\n",
       "      <td>0.700672</td>\n",
       "      <td>4.637650</td>\n",
       "      <td>1.050092</td>\n",
       "      <td>3.262981</td>\n",
       "      <td>6.188964</td>\n",
       "      <td>...</td>\n",
       "      <td>0.004582</td>\n",
       "      <td>0.007941</td>\n",
       "      <td>0.004276</td>\n",
       "      <td>0.574018</td>\n",
       "      <td>0.000916</td>\n",
       "      <td>0.005091</td>\n",
       "      <td>0.031460</td>\n",
       "      <td>0.008450</td>\n",
       "      <td>0.013846</td>\n",
       "      <td>0.059662</td>\n",
       "    </tr>\n",
       "    <tr>\n",
       "      <th>std</th>\n",
       "      <td>12.918058</td>\n",
       "      <td>0.412101</td>\n",
       "      <td>0.780701</td>\n",
       "      <td>0.804660</td>\n",
       "      <td>2.874148</td>\n",
       "      <td>1.015107</td>\n",
       "      <td>1.721212</td>\n",
       "      <td>1.011156</td>\n",
       "      <td>1.606287</td>\n",
       "      <td>1.896070</td>\n",
       "      <td>...</td>\n",
       "      <td>0.067535</td>\n",
       "      <td>0.088764</td>\n",
       "      <td>0.071224</td>\n",
       "      <td>0.561255</td>\n",
       "      <td>0.030258</td>\n",
       "      <td>0.077996</td>\n",
       "      <td>0.209070</td>\n",
       "      <td>0.092647</td>\n",
       "      <td>0.117728</td>\n",
       "      <td>0.236872</td>\n",
       "    </tr>\n",
       "    <tr>\n",
       "      <th>min</th>\n",
       "      <td>1.000000</td>\n",
       "      <td>1.000000</td>\n",
       "      <td>1.000000</td>\n",
       "      <td>1.000000</td>\n",
       "      <td>1.000000</td>\n",
       "      <td>0.000000</td>\n",
       "      <td>0.000000</td>\n",
       "      <td>0.000000</td>\n",
       "      <td>0.000000</td>\n",
       "      <td>0.000000</td>\n",
       "      <td>...</td>\n",
       "      <td>0.000000</td>\n",
       "      <td>0.000000</td>\n",
       "      <td>0.000000</td>\n",
       "      <td>0.000000</td>\n",
       "      <td>0.000000</td>\n",
       "      <td>0.000000</td>\n",
       "      <td>0.000000</td>\n",
       "      <td>0.000000</td>\n",
       "      <td>0.000000</td>\n",
       "      <td>0.000000</td>\n",
       "    </tr>\n",
       "    <tr>\n",
       "      <th>25%</th>\n",
       "      <td>10.000000</td>\n",
       "      <td>1.000000</td>\n",
       "      <td>2.000000</td>\n",
       "      <td>2.000000</td>\n",
       "      <td>3.000000</td>\n",
       "      <td>0.000000</td>\n",
       "      <td>4.000000</td>\n",
       "      <td>0.000000</td>\n",
       "      <td>2.000000</td>\n",
       "      <td>5.000000</td>\n",
       "      <td>...</td>\n",
       "      <td>0.000000</td>\n",
       "      <td>0.000000</td>\n",
       "      <td>0.000000</td>\n",
       "      <td>0.000000</td>\n",
       "      <td>0.000000</td>\n",
       "      <td>0.000000</td>\n",
       "      <td>0.000000</td>\n",
       "      <td>0.000000</td>\n",
       "      <td>0.000000</td>\n",
       "      <td>0.000000</td>\n",
       "    </tr>\n",
       "    <tr>\n",
       "      <th>50%</th>\n",
       "      <td>30.000000</td>\n",
       "      <td>1.000000</td>\n",
       "      <td>3.000000</td>\n",
       "      <td>3.000000</td>\n",
       "      <td>7.000000</td>\n",
       "      <td>0.000000</td>\n",
       "      <td>5.000000</td>\n",
       "      <td>1.000000</td>\n",
       "      <td>3.000000</td>\n",
       "      <td>6.000000</td>\n",
       "      <td>...</td>\n",
       "      <td>0.000000</td>\n",
       "      <td>0.000000</td>\n",
       "      <td>0.000000</td>\n",
       "      <td>1.000000</td>\n",
       "      <td>0.000000</td>\n",
       "      <td>0.000000</td>\n",
       "      <td>0.000000</td>\n",
       "      <td>0.000000</td>\n",
       "      <td>0.000000</td>\n",
       "      <td>0.000000</td>\n",
       "    </tr>\n",
       "    <tr>\n",
       "      <th>75%</th>\n",
       "      <td>35.000000</td>\n",
       "      <td>1.000000</td>\n",
       "      <td>3.000000</td>\n",
       "      <td>3.000000</td>\n",
       "      <td>8.000000</td>\n",
       "      <td>1.000000</td>\n",
       "      <td>6.000000</td>\n",
       "      <td>2.000000</td>\n",
       "      <td>4.000000</td>\n",
       "      <td>7.000000</td>\n",
       "      <td>...</td>\n",
       "      <td>0.000000</td>\n",
       "      <td>0.000000</td>\n",
       "      <td>0.000000</td>\n",
       "      <td>1.000000</td>\n",
       "      <td>0.000000</td>\n",
       "      <td>0.000000</td>\n",
       "      <td>0.000000</td>\n",
       "      <td>0.000000</td>\n",
       "      <td>0.000000</td>\n",
       "      <td>0.000000</td>\n",
       "    </tr>\n",
       "    <tr>\n",
       "      <th>max</th>\n",
       "      <td>41.000000</td>\n",
       "      <td>10.000000</td>\n",
       "      <td>6.000000</td>\n",
       "      <td>6.000000</td>\n",
       "      <td>10.000000</td>\n",
       "      <td>9.000000</td>\n",
       "      <td>9.000000</td>\n",
       "      <td>5.000000</td>\n",
       "      <td>9.000000</td>\n",
       "      <td>9.000000</td>\n",
       "      <td>...</td>\n",
       "      <td>1.000000</td>\n",
       "      <td>1.000000</td>\n",
       "      <td>2.000000</td>\n",
       "      <td>7.000000</td>\n",
       "      <td>1.000000</td>\n",
       "      <td>2.000000</td>\n",
       "      <td>4.000000</td>\n",
       "      <td>2.000000</td>\n",
       "      <td>2.000000</td>\n",
       "      <td>1.000000</td>\n",
       "    </tr>\n",
       "  </tbody>\n",
       "</table>\n",
       "<p>8 rows × 86 columns</p>\n",
       "</div>"
      ],
      "text/plain": [
       "          MOSTYPE    MAANTHUI     MGEMOMV    MGEMLEEF    MOSHOOFD      MGODRK  \\\n",
       "count 9822.000000 9822.000000 9822.000000 9822.000000 9822.000000 9822.000000   \n",
       "mean    24.253207    1.108735    2.677561    2.996437    5.779067    0.700672   \n",
       "std     12.918058    0.412101    0.780701    0.804660    2.874148    1.015107   \n",
       "min      1.000000    1.000000    1.000000    1.000000    1.000000    0.000000   \n",
       "25%     10.000000    1.000000    2.000000    2.000000    3.000000    0.000000   \n",
       "50%     30.000000    1.000000    3.000000    3.000000    7.000000    0.000000   \n",
       "75%     35.000000    1.000000    3.000000    3.000000    8.000000    1.000000   \n",
       "max     41.000000   10.000000    6.000000    6.000000   10.000000    9.000000   \n",
       "\n",
       "           MGODPR      MGODOV      MGODGE      MRELGE  ...    APERSONG  \\\n",
       "count 9822.000000 9822.000000 9822.000000 9822.000000  ... 9822.000000   \n",
       "mean     4.637650    1.050092    3.262981    6.188964  ...    0.004582   \n",
       "std      1.721212    1.011156    1.606287    1.896070  ...    0.067535   \n",
       "min      0.000000    0.000000    0.000000    0.000000  ...    0.000000   \n",
       "25%      4.000000    0.000000    2.000000    5.000000  ...    0.000000   \n",
       "50%      5.000000    1.000000    3.000000    6.000000  ...    0.000000   \n",
       "75%      6.000000    2.000000    4.000000    7.000000  ...    0.000000   \n",
       "max      9.000000    5.000000    9.000000    9.000000  ...    1.000000   \n",
       "\n",
       "          AGEZONG     AWAOREG      ABRAND     AZEILPL    APLEZIER      AFIETS  \\\n",
       "count 9822.000000 9822.000000 9822.000000 9822.000000 9822.000000 9822.000000   \n",
       "mean     0.007941    0.004276    0.574018    0.000916    0.005091    0.031460   \n",
       "std      0.088764    0.071224    0.561255    0.030258    0.077996    0.209070   \n",
       "min      0.000000    0.000000    0.000000    0.000000    0.000000    0.000000   \n",
       "25%      0.000000    0.000000    0.000000    0.000000    0.000000    0.000000   \n",
       "50%      0.000000    0.000000    1.000000    0.000000    0.000000    0.000000   \n",
       "75%      0.000000    0.000000    1.000000    0.000000    0.000000    0.000000   \n",
       "max      1.000000    2.000000    7.000000    1.000000    2.000000    4.000000   \n",
       "\n",
       "          AINBOED    ABYSTAND     CARAVAN  \n",
       "count 9822.000000 9822.000000 9822.000000  \n",
       "mean     0.008450    0.013846    0.059662  \n",
       "std      0.092647    0.117728    0.236872  \n",
       "min      0.000000    0.000000    0.000000  \n",
       "25%      0.000000    0.000000    0.000000  \n",
       "50%      0.000000    0.000000    0.000000  \n",
       "75%      0.000000    0.000000    0.000000  \n",
       "max      2.000000    2.000000    1.000000  \n",
       "\n",
       "[8 rows x 86 columns]"
      ]
     },
     "execution_count": 4,
     "metadata": {},
     "output_type": "execute_result"
    }
   ],
   "source": [
    "pd.options.display.float_format = \"{:.6f}\".format\n",
    "dataset.describe()"
   ]
  },
  {
   "cell_type": "code",
   "execution_count": 5,
   "metadata": {},
   "outputs": [
    {
     "data": {
      "text/plain": [
       "CARAVAN\n",
       "0    9236\n",
       "1     586\n",
       "dtype: int64"
      ]
     },
     "execution_count": 5,
     "metadata": {},
     "output_type": "execute_result"
    }
   ],
   "source": [
    "dataset.groupby('CARAVAN').size()"
   ]
  },
  {
   "cell_type": "code",
   "execution_count": 6,
   "metadata": {},
   "outputs": [
    {
     "name": "stdout",
     "output_type": "stream",
     "text": [
      "Negatif 94.03 % of the dataset\n",
      "Positif 5.97 % of the dataset\n"
     ]
    }
   ],
   "source": [
    "print('Negatif', round(dataset['CARAVAN'].value_counts()[0]/len(dataset) * 100,2), '% of the dataset')\n",
    "print('Positif', round(dataset['CARAVAN'].value_counts()[1]/len(dataset) * 100,2), '% of the dataset')"
   ]
  },
  {
   "cell_type": "code",
   "execution_count": 7,
   "metadata": {},
   "outputs": [],
   "source": [
    "negatif_data = dataset.loc[dataset['CARAVAN']==0]\n",
    "positif_data = dataset.loc[dataset['CARAVAN']==1]\n",
    "\n",
    "all_data = pd.concat([negatif_data, positif_data])\n",
    "all_data.shape\n",
    "\n",
    "X = all_data.drop('CARAVAN', axis=1)\n",
    "y = all_data['CARAVAN']"
   ]
  },
  {
   "cell_type": "code",
   "execution_count": 8,
   "metadata": {},
   "outputs": [
    {
     "name": "stdout",
     "output_type": "stream",
     "text": [
      "Rincian class pada data training Counter({0: 7394, 1: 463}) dan testing Counter({0: 1842, 1: 123}) \n",
      "(7857, 85)\n",
      "(1965, 85)\n"
     ]
    }
   ],
   "source": [
    "X_train, X_test, y_train, y_test = train_test_split (X, y, test_size = 0.2 ,random_state=42)\n",
    "\n",
    "\n",
    "print (\"Rincian class pada data training {} dan testing {} \" .format(Counter(y_train), Counter(y_test)))\n",
    "print (X_train.shape)\n",
    "print(X_test.shape)"
   ]
  },
  {
   "cell_type": "code",
   "execution_count": 9,
   "metadata": {},
   "outputs": [
    {
     "name": "stderr",
     "output_type": "stream",
     "text": [
      "C:\\Users\\Muhsin Ahadi\\Anaconda3\\lib\\site-packages\\ipykernel_launcher.py:1: SettingWithCopyWarning: \n",
      "A value is trying to be set on a copy of a slice from a DataFrame.\n",
      "Try using .loc[row_indexer,col_indexer] = value instead\n",
      "\n",
      "See the caveats in the documentation: http://pandas.pydata.org/pandas-docs/stable/indexing.html#indexing-view-versus-copy\n",
      "  \"\"\"Entry point for launching an IPython kernel.\n"
     ]
    }
   ],
   "source": [
    "X_train['CARAVAN'] = y_train\n",
    "negatif = X_train.loc[X_train['CARAVAN']==0]\n",
    "positif = X_train.loc[X_train['CARAVAN']==1]\n",
    "\n",
    "negatif_points = negatif.drop('CARAVAN', axis = 1)\n",
    "positif_points = positif.drop('CARAVAN', axis = 1)\n",
    "\n",
    "negatif_points=np.array(negatif_points)\n",
    "positif_points = np.array (positif_points)"
   ]
  },
  {
   "cell_type": "code",
   "execution_count": 10,
   "metadata": {},
   "outputs": [
    {
     "data": {
      "image/png": "[encoded data removed]",
      "text/plain": [
       "<Figure size 288x288 with 1 Axes>"
      ]
     },
     "metadata": {
      "needs_background": "light"
     },
     "output_type": "display_data"
    }
   ],
   "source": [
    "import seaborn as sns\n",
    "plt.figure(figsize=(4, 4))\n",
    "sns.countplot('CARAVAN', data=all_data)\n",
    "plt.title('Original Dataset')\n",
    "plt.show()"
   ]
  },
  {
   "cell_type": "code",
   "execution_count": 11,
   "metadata": {},
   "outputs": [
    {
     "data": {
      "image/png": "[encoded data removed]",
      "text/plain": [
       "<Figure size 288x288 with 1 Axes>"
      ]
     },
     "metadata": {
      "needs_background": "light"
     },
     "output_type": "display_data"
    }
   ],
   "source": [
    "# Shuffle the Dataset.\n",
    "shuffled_df = dataset.sample(frac=1,random_state=4)\n",
    "\n",
    "# Put all the fraud class in a separate dataset.\n",
    "fraud_df = shuffled_df.loc[shuffled_df['CARAVAN'] == 1]\n",
    "\n",
    "#Randomly select 492 observations from the non-fraud (majority class)\n",
    "non_fraud_df = shuffled_df.loc[shuffled_df['CARAVAN'] == 0].sample(n=586,random_state=42)\n",
    "\n",
    "# Concatenate both dataframes again\n",
    "normalized_df = pd.concat([fraud_df, non_fraud_df])\n",
    "\n",
    "#plot the dataset after the undersampling\n",
    "plt.figure(figsize=(4, 4))\n",
    "sns.countplot('CARAVAN', data=normalized_df)\n",
    "plt.title('Balanced Classes')\n",
    "plt.show()"
   ]
  },
  {
   "cell_type": "code",
   "execution_count": 12,
   "metadata": {},
   "outputs": [
    {
     "data": {
      "text/plain": [
       "(463, 7394)"
      ]
     },
     "execution_count": 12,
     "metadata": {},
     "output_type": "execute_result"
    }
   ],
   "source": [
    "from scipy.spatial import distance\n",
    "Y = distance.cdist(positif_points, negatif_points, 'euclidean')\n",
    "\n",
    "#mengurutkan hasil secara ascending\n",
    "K = np.argsort(Y)\n",
    "# print (Y)\n",
    "# print (\"Urutan data: \\n\", K)\n",
    "Y.sort()\n",
    "# print (\"After short: \\n\", Y)\n",
    "Y.shape"
   ]
  },
  {
   "cell_type": "code",
   "execution_count": 13,
   "metadata": {},
   "outputs": [
    {
     "name": "stdout",
     "output_type": "stream",
     "text": [
      "(463, 3, 85)\n",
      "(953, 86)\n"
     ]
    }
   ],
   "source": [
    "array_new = np.array(negatif_points[K[:,0:3]])\n",
    "print (array_new.shape)\n",
    "XX= array_new.transpose(0,1,2).reshape(array_new.shape[0]*array_new.shape[1],array_new.shape[2])\n",
    "zeros_value = np.zeros((array_new.shape[0]*array_new.shape[1],1))\n",
    "# print (ones_value.shape)\n",
    "new_X = np.concatenate ((XX, zeros_value), axis=1)\n",
    "\n",
    "# print (new_X.shape)\n",
    "new_X= np.unique(new_X,axis=0)\n",
    "print (new_X.shape)"
   ]
  },
  {
   "cell_type": "code",
   "execution_count": 14,
   "metadata": {},
   "outputs": [
    {
     "name": "stdout",
     "output_type": "stream",
     "text": [
      "[1. 1. 1. ... 0. 0. 0.]\n",
      "Setelah undersampling, komponen data: Counter({0.0: 953, 1.0: 463})\n"
     ]
    }
   ],
   "source": [
    "array_minority = np.array(positif)\n",
    "joined_resampling = np.concatenate((array_minority,new_X), axis=0)\n",
    "\n",
    "X_resample = joined_resampling[:,0:85]\n",
    "X_resample=X_resample.astype(np.float32)\n",
    "# print (X.dtype)\n",
    "\n",
    "from sklearn.preprocessing import StandardScaler\n",
    "st = StandardScaler()\n",
    "X_resample = st.fit_transform(X_resample)\n",
    "\n",
    "y_resample = joined_resampling[:,85]\n",
    "y_resample=y_resample.astype(np.float32)\n",
    "print (y_resample)\n",
    "\n",
    "# print (X.shape)\n",
    "# print (y.shape)\n",
    "print ('Setelah undersampling, komponen data: {}' .format(Counter(y_resample)))"
   ]
  },
  {
   "cell_type": "code",
   "execution_count": 15,
   "metadata": {},
   "outputs": [
    {
     "name": "stdout",
     "output_type": "stream",
     "text": [
      "(1965, 85)\n",
      "Rincian class pada data  testing Counter({0.0: 1842, 1.0: 123}) \n"
     ]
    },
    {
     "name": "stderr",
     "output_type": "stream",
     "text": [
      "C:\\Users\\Muhsin Ahadi\\Anaconda3\\lib\\site-packages\\ipykernel_launcher.py:1: SettingWithCopyWarning: \n",
      "A value is trying to be set on a copy of a slice from a DataFrame.\n",
      "Try using .loc[row_indexer,col_indexer] = value instead\n",
      "\n",
      "See the caveats in the documentation: http://pandas.pydata.org/pandas-docs/stable/indexing.html#indexing-view-versus-copy\n",
      "  \"\"\"Entry point for launching an IPython kernel.\n"
     ]
    }
   ],
   "source": [
    "X_test['CARAVAN'] = y_test\n",
    "negatif2 = X_test.loc[X_test['CARAVAN']==0]\n",
    "positif2 = X_test.loc[X_test['CARAVAN']==1]\n",
    "\n",
    "negatif_points2 = negatif2.drop('CARAVAN', axis = 1)\n",
    "positif_points2 = positif2.drop('CARAVAN', axis = 1)\n",
    "\n",
    "negatif_points2=np.array(negatif_points2)\n",
    "positif_points2 = np.array (positif_points2)\n",
    "# print(benign_points2.shape)\n",
    "zeros_value2 = np.zeros((negatif_points2.shape[0],1))\n",
    "\n",
    "new_negatif = np.concatenate((negatif_points2, zeros_value2), axis=1)\n",
    "\n",
    "array_minority2 = np.array(positif2)\n",
    "joined_testing =np.concatenate ((array_minority2, new_negatif), axis =0)\n",
    "\n",
    "X_test_new = joined_testing[:,0:85].astype(np.float32)\n",
    "X_test_new = st.fit_transform(X_test_new)\n",
    "y_test_new = joined_testing[:,85].astype(np.float32)\n",
    "\n",
    "print (X_test_new.shape)\n",
    "print (\"Rincian class pada data  testing {} \" .format(Counter(y_test_new)))"
   ]
  },
  {
   "cell_type": "code",
   "execution_count": 17,
   "metadata": {},
   "outputs": [
    {
     "data": {
      "text/plain": [
       "(1416, 85)"
      ]
     },
     "execution_count": 17,
     "metadata": {},
     "output_type": "execute_result"
    }
   ],
   "source": [
    "svm = SVC(gamma=1.5, kernel='rbf', C=1)\n",
    "svm.fit(X_resample,y_resample)\n",
    "X_resample.shape"
   ]
  },
  {
   "cell_type": "code",
   "execution_count": 18,
   "metadata": {},
   "outputs": [
    {
     "name": "stdout",
     "output_type": "stream",
     "text": [
      "[[947   6]\n",
      " [110 353]]\n",
      "              precision    recall  f1-score   support\n",
      "\n",
      "         0.0       0.90      0.99      0.94       953\n",
      "         1.0       0.98      0.76      0.86       463\n",
      "\n",
      "   micro avg       0.92      0.92      0.92      1416\n",
      "   macro avg       0.94      0.88      0.90      1416\n",
      "weighted avg       0.92      0.92      0.92      1416\n",
      "\n",
      "0.870413055288374\n"
     ]
    }
   ],
   "source": [
    "from sklearn.metrics import confusion_matrix\n",
    "\n",
    "y_pred = svm.predict(X_resample)\n",
    "conf_matrix_train = confusion_matrix(y_resample, y_pred)\n",
    "print (conf_matrix_train)\n",
    "# print (X.shape)\n",
    "print (classification_report(y_resample, y_pred))\n",
    "G_mean = geometric_mean_score(y_resample, y_pred)\n",
    "print (G_mean)"
   ]
  },
  {
   "cell_type": "code",
   "execution_count": null,
   "metadata": {},
   "outputs": [],
   "source": [
    "svm.fit (X_test_new, y_test_new)\n",
    "y_pred_test = svm.predict(X_test_new)\n",
    "conf_matrix_test = confusion_matrix(y_test_new, y_pred_test)\n",
    "print (conf_matrix_test)\n",
    "# print (X_test.dtype)\n",
    "print(classification_report(y_test_new, y_pred_test))\n",
    "G_mean_test = geometric_mean_score (y_test_new, y_pred_test)\n",
    "print (G_mean_test)"
   ]
  },
  {
   "cell_type": "code",
   "execution_count": null,
   "metadata": {},
   "outputs": [],
   "source": [
    "from sklearn.decomposition import PCA\n",
    "\n",
    "fig, ax = plt.subplots(1,figsize=(8,5))\n",
    "\n",
    "pca = PCA(n_components=2)\n",
    "Xreduced = pca.fit_transform(X_resample)\n",
    "\n",
    "classifier = svm.fit(Xreduced, y_resample)\n",
    "plot_decision_function(Xreduced,y_resample, classifier, ax)\n",
    "fig.tight_layout()"
   ]
  },
  {
   "cell_type": "code",
   "execution_count": null,
   "metadata": {},
   "outputs": [],
   "source": [
    "fig, ax = plt.subplots(1,figsize=(8,5))\n",
    "\n",
    "pca = PCA(n_components=2)\n",
    "Xreduced_test = pca.fit_transform(X_test_new)\n",
    "\n",
    "classifier = svm.fit(Xreduced_test, y_test_new)\n",
    "plot_decision_function(Xreduced_test,y_test_new, classifier, ax)\n",
    "fig.tight_layout()"
   ]
  },
  {
   "cell_type": "code",
   "execution_count": null,
   "metadata": {},
   "outputs": [],
   "source": []
  }
 ],
 "metadata": {
  "kernelspec": {
   "display_name": "Python 3",
   "language": "python",
   "name": "python3"
  },
  "language_info": {
   "codemirror_mode": {
    "name": "ipython",
    "version": 3
   },
   "file_extension": ".py",
   "mimetype": "text/x-python",
   "name": "python",
   "nbconvert_exporter": "python",
   "pygments_lexer": "ipython3",
   "version": "3.7.3"
  }
 },
 "nbformat": 4,
 "nbformat_minor": 2
}
