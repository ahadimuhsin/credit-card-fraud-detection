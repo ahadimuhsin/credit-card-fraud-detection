{
 "cells": [
  {
   "cell_type": "code",
   "execution_count": 1,
   "metadata": {},
   "outputs": [],
   "source": [
    "from sklearn.datasets import load_breast_cancer\n",
    "import pandas as pd\n",
    "import numpy as np\n",
    "from collections import Counter\n",
    "from sklearn.svm import SVC\n",
    "from sklearn.metrics import precision_score, recall_score, f1_score, roc_auc_score, accuracy_score, classification_report\n",
    "from imblearn.metrics import geometric_mean_score\n",
    "from sklearn.model_selection import train_test_split\n",
    "import matplotlib.pyplot as plt\n",
    "from matplotlib.lines import Line2D\n",
    "import seaborn as sns"
   ]
  },
  {
   "cell_type": "code",
   "execution_count": 2,
   "metadata": {},
   "outputs": [],
   "source": [
    "def plot_decision_function(X, y, clf, ax):\n",
    "    plot_step = 0.02\n",
    "    x_min, x_max = X[:, 0].min() - 1, X[:, 0].max() + 1\n",
    "    y_min, y_max = X[:, 1].min() - 1, X[:, 1].max() + 1\n",
    "    xx, yy = np.meshgrid(np.arange(x_min, x_max, plot_step), \n",
    "                         np.arange(y_min, y_max, plot_step))\n",
    "    Z = clf.predict(np.c_[xx.ravel(), yy.ravel()])\n",
    "    Z = Z.reshape(xx.shape)\n",
    "    ax.contourf(xx, yy, Z, alpha=0.4)\n",
    "    ax.scatter(X[:, 0], X[:, 1], alpha=0.8, c=y, edgecolor='k')"
   ]
  },
  {
   "cell_type": "code",
   "execution_count": 3,
   "metadata": {},
   "outputs": [
    {
     "name": "stdout",
     "output_type": "stream",
     "text": [
      "Index(['Time', 'V1', 'V2', 'V3', 'V4', 'V5', 'V6', 'V7', 'V8', 'V9', 'V10',\n",
      "       'V11', 'V12', 'V13', 'V14', 'V15', 'V16', 'V17', 'V18', 'V19', 'V20',\n",
      "       'V21', 'V22', 'V23', 'V24', 'V25', 'V26', 'V27', 'V28', 'Amount',\n",
      "       'Class'],\n",
      "      dtype='object')\n"
     ]
    }
   ],
   "source": [
    "data = pd.read_csv('F:\\Kuliah\\Semester 7\\Data Mining\\Data Dow Jones\\creditcard.csv', sep=',')\n",
    "#data diambil dari kaggle.com/mlg-ulb/creditcardfraud\n",
    "\n",
    "data2 = data\n",
    "\n",
    "print (data.columns)"
   ]
  },
  {
   "cell_type": "code",
   "execution_count": 4,
   "metadata": {},
   "outputs": [
    {
     "data": {
      "text/plain": [
       "(284807, 31)"
      ]
     },
     "execution_count": 4,
     "metadata": {},
     "output_type": "execute_result"
    }
   ],
   "source": [
    "data.shape"
   ]
  },
  {
   "cell_type": "code",
   "execution_count": 5,
   "metadata": {},
   "outputs": [
    {
     "data": {
      "text/html": [
       "<div>\n",
       "<style scoped>\n",
       "    .dataframe tbody tr th:only-of-type {\n",
       "        vertical-align: middle;\n",
       "    }\n",
       "\n",
       "    .dataframe tbody tr th {\n",
       "        vertical-align: top;\n",
       "    }\n",
       "\n",
       "    .dataframe thead th {\n",
       "        text-align: right;\n",
       "    }\n",
       "</style>\n",
       "<table border=\"1\" class=\"dataframe\">\n",
       "  <thead>\n",
       "    <tr style=\"text-align: right;\">\n",
       "      <th></th>\n",
       "      <th>Time</th>\n",
       "      <th>V1</th>\n",
       "      <th>V2</th>\n",
       "      <th>V3</th>\n",
       "      <th>V4</th>\n",
       "      <th>V5</th>\n",
       "      <th>V6</th>\n",
       "      <th>V7</th>\n",
       "      <th>V8</th>\n",
       "      <th>V9</th>\n",
       "      <th>...</th>\n",
       "      <th>V21</th>\n",
       "      <th>V22</th>\n",
       "      <th>V23</th>\n",
       "      <th>V24</th>\n",
       "      <th>V25</th>\n",
       "      <th>V26</th>\n",
       "      <th>V27</th>\n",
       "      <th>V28</th>\n",
       "      <th>Amount</th>\n",
       "      <th>Class</th>\n",
       "    </tr>\n",
       "  </thead>\n",
       "  <tbody>\n",
       "    <tr>\n",
       "      <th>count</th>\n",
       "      <td>284807.000000</td>\n",
       "      <td>284807.000000</td>\n",
       "      <td>284807.000000</td>\n",
       "      <td>284807.000000</td>\n",
       "      <td>284807.000000</td>\n",
       "      <td>284807.000000</td>\n",
       "      <td>284807.000000</td>\n",
       "      <td>284807.000000</td>\n",
       "      <td>284807.000000</td>\n",
       "      <td>284807.000000</td>\n",
       "      <td>...</td>\n",
       "      <td>284807.000000</td>\n",
       "      <td>284807.000000</td>\n",
       "      <td>284807.000000</td>\n",
       "      <td>284807.000000</td>\n",
       "      <td>284807.000000</td>\n",
       "      <td>284807.000000</td>\n",
       "      <td>284807.000000</td>\n",
       "      <td>284807.000000</td>\n",
       "      <td>284807.000000</td>\n",
       "      <td>284807.000000</td>\n",
       "    </tr>\n",
       "    <tr>\n",
       "      <th>mean</th>\n",
       "      <td>94813.859575</td>\n",
       "      <td>0.000000</td>\n",
       "      <td>0.000000</td>\n",
       "      <td>-0.000000</td>\n",
       "      <td>0.000000</td>\n",
       "      <td>-0.000000</td>\n",
       "      <td>0.000000</td>\n",
       "      <td>-0.000000</td>\n",
       "      <td>-0.000000</td>\n",
       "      <td>-0.000000</td>\n",
       "      <td>...</td>\n",
       "      <td>0.000000</td>\n",
       "      <td>0.000000</td>\n",
       "      <td>0.000000</td>\n",
       "      <td>0.000000</td>\n",
       "      <td>0.000000</td>\n",
       "      <td>0.000000</td>\n",
       "      <td>-0.000000</td>\n",
       "      <td>-0.000000</td>\n",
       "      <td>88.349619</td>\n",
       "      <td>0.001727</td>\n",
       "    </tr>\n",
       "    <tr>\n",
       "      <th>std</th>\n",
       "      <td>47488.145955</td>\n",
       "      <td>1.958696</td>\n",
       "      <td>1.651309</td>\n",
       "      <td>1.516255</td>\n",
       "      <td>1.415869</td>\n",
       "      <td>1.380247</td>\n",
       "      <td>1.332271</td>\n",
       "      <td>1.237094</td>\n",
       "      <td>1.194353</td>\n",
       "      <td>1.098632</td>\n",
       "      <td>...</td>\n",
       "      <td>0.734524</td>\n",
       "      <td>0.725702</td>\n",
       "      <td>0.624460</td>\n",
       "      <td>0.605647</td>\n",
       "      <td>0.521278</td>\n",
       "      <td>0.482227</td>\n",
       "      <td>0.403632</td>\n",
       "      <td>0.330083</td>\n",
       "      <td>250.120109</td>\n",
       "      <td>0.041527</td>\n",
       "    </tr>\n",
       "    <tr>\n",
       "      <th>min</th>\n",
       "      <td>0.000000</td>\n",
       "      <td>-56.407510</td>\n",
       "      <td>-72.715728</td>\n",
       "      <td>-48.325589</td>\n",
       "      <td>-5.683171</td>\n",
       "      <td>-113.743307</td>\n",
       "      <td>-26.160506</td>\n",
       "      <td>-43.557242</td>\n",
       "      <td>-73.216718</td>\n",
       "      <td>-13.434066</td>\n",
       "      <td>...</td>\n",
       "      <td>-34.830382</td>\n",
       "      <td>-10.933144</td>\n",
       "      <td>-44.807735</td>\n",
       "      <td>-2.836627</td>\n",
       "      <td>-10.295397</td>\n",
       "      <td>-2.604551</td>\n",
       "      <td>-22.565679</td>\n",
       "      <td>-15.430084</td>\n",
       "      <td>0.000000</td>\n",
       "      <td>0.000000</td>\n",
       "    </tr>\n",
       "    <tr>\n",
       "      <th>25%</th>\n",
       "      <td>54201.500000</td>\n",
       "      <td>-0.920373</td>\n",
       "      <td>-0.598550</td>\n",
       "      <td>-0.890365</td>\n",
       "      <td>-0.848640</td>\n",
       "      <td>-0.691597</td>\n",
       "      <td>-0.768296</td>\n",
       "      <td>-0.554076</td>\n",
       "      <td>-0.208630</td>\n",
       "      <td>-0.643098</td>\n",
       "      <td>...</td>\n",
       "      <td>-0.228395</td>\n",
       "      <td>-0.542350</td>\n",
       "      <td>-0.161846</td>\n",
       "      <td>-0.354586</td>\n",
       "      <td>-0.317145</td>\n",
       "      <td>-0.326984</td>\n",
       "      <td>-0.070840</td>\n",
       "      <td>-0.052960</td>\n",
       "      <td>5.600000</td>\n",
       "      <td>0.000000</td>\n",
       "    </tr>\n",
       "    <tr>\n",
       "      <th>50%</th>\n",
       "      <td>84692.000000</td>\n",
       "      <td>0.018109</td>\n",
       "      <td>0.065486</td>\n",
       "      <td>0.179846</td>\n",
       "      <td>-0.019847</td>\n",
       "      <td>-0.054336</td>\n",
       "      <td>-0.274187</td>\n",
       "      <td>0.040103</td>\n",
       "      <td>0.022358</td>\n",
       "      <td>-0.051429</td>\n",
       "      <td>...</td>\n",
       "      <td>-0.029450</td>\n",
       "      <td>0.006782</td>\n",
       "      <td>-0.011193</td>\n",
       "      <td>0.040976</td>\n",
       "      <td>0.016594</td>\n",
       "      <td>-0.052139</td>\n",
       "      <td>0.001342</td>\n",
       "      <td>0.011244</td>\n",
       "      <td>22.000000</td>\n",
       "      <td>0.000000</td>\n",
       "    </tr>\n",
       "    <tr>\n",
       "      <th>75%</th>\n",
       "      <td>139320.500000</td>\n",
       "      <td>1.315642</td>\n",
       "      <td>0.803724</td>\n",
       "      <td>1.027196</td>\n",
       "      <td>0.743341</td>\n",
       "      <td>0.611926</td>\n",
       "      <td>0.398565</td>\n",
       "      <td>0.570436</td>\n",
       "      <td>0.327346</td>\n",
       "      <td>0.597139</td>\n",
       "      <td>...</td>\n",
       "      <td>0.186377</td>\n",
       "      <td>0.528554</td>\n",
       "      <td>0.147642</td>\n",
       "      <td>0.439527</td>\n",
       "      <td>0.350716</td>\n",
       "      <td>0.240952</td>\n",
       "      <td>0.091045</td>\n",
       "      <td>0.078280</td>\n",
       "      <td>77.165000</td>\n",
       "      <td>0.000000</td>\n",
       "    </tr>\n",
       "    <tr>\n",
       "      <th>max</th>\n",
       "      <td>172792.000000</td>\n",
       "      <td>2.454930</td>\n",
       "      <td>22.057729</td>\n",
       "      <td>9.382558</td>\n",
       "      <td>16.875344</td>\n",
       "      <td>34.801666</td>\n",
       "      <td>73.301626</td>\n",
       "      <td>120.589494</td>\n",
       "      <td>20.007208</td>\n",
       "      <td>15.594995</td>\n",
       "      <td>...</td>\n",
       "      <td>27.202839</td>\n",
       "      <td>10.503090</td>\n",
       "      <td>22.528412</td>\n",
       "      <td>4.584549</td>\n",
       "      <td>7.519589</td>\n",
       "      <td>3.517346</td>\n",
       "      <td>31.612198</td>\n",
       "      <td>33.847808</td>\n",
       "      <td>25691.160000</td>\n",
       "      <td>1.000000</td>\n",
       "    </tr>\n",
       "  </tbody>\n",
       "</table>\n",
       "<p>8 rows × 31 columns</p>\n",
       "</div>"
      ],
      "text/plain": [
       "               Time            V1            V2            V3            V4  \\\n",
       "count 284807.000000 284807.000000 284807.000000 284807.000000 284807.000000   \n",
       "mean   94813.859575      0.000000      0.000000     -0.000000      0.000000   \n",
       "std    47488.145955      1.958696      1.651309      1.516255      1.415869   \n",
       "min        0.000000    -56.407510    -72.715728    -48.325589     -5.683171   \n",
       "25%    54201.500000     -0.920373     -0.598550     -0.890365     -0.848640   \n",
       "50%    84692.000000      0.018109      0.065486      0.179846     -0.019847   \n",
       "75%   139320.500000      1.315642      0.803724      1.027196      0.743341   \n",
       "max   172792.000000      2.454930     22.057729      9.382558     16.875344   \n",
       "\n",
       "                 V5            V6            V7            V8            V9  \\\n",
       "count 284807.000000 284807.000000 284807.000000 284807.000000 284807.000000   \n",
       "mean      -0.000000      0.000000     -0.000000     -0.000000     -0.000000   \n",
       "std        1.380247      1.332271      1.237094      1.194353      1.098632   \n",
       "min     -113.743307    -26.160506    -43.557242    -73.216718    -13.434066   \n",
       "25%       -0.691597     -0.768296     -0.554076     -0.208630     -0.643098   \n",
       "50%       -0.054336     -0.274187      0.040103      0.022358     -0.051429   \n",
       "75%        0.611926      0.398565      0.570436      0.327346      0.597139   \n",
       "max       34.801666     73.301626    120.589494     20.007208     15.594995   \n",
       "\n",
       "       ...           V21           V22           V23           V24  \\\n",
       "count  ... 284807.000000 284807.000000 284807.000000 284807.000000   \n",
       "mean   ...      0.000000      0.000000      0.000000      0.000000   \n",
       "std    ...      0.734524      0.725702      0.624460      0.605647   \n",
       "min    ...    -34.830382    -10.933144    -44.807735     -2.836627   \n",
       "25%    ...     -0.228395     -0.542350     -0.161846     -0.354586   \n",
       "50%    ...     -0.029450      0.006782     -0.011193      0.040976   \n",
       "75%    ...      0.186377      0.528554      0.147642      0.439527   \n",
       "max    ...     27.202839     10.503090     22.528412      4.584549   \n",
       "\n",
       "                V25           V26           V27           V28        Amount  \\\n",
       "count 284807.000000 284807.000000 284807.000000 284807.000000 284807.000000   \n",
       "mean       0.000000      0.000000     -0.000000     -0.000000     88.349619   \n",
       "std        0.521278      0.482227      0.403632      0.330083    250.120109   \n",
       "min      -10.295397     -2.604551    -22.565679    -15.430084      0.000000   \n",
       "25%       -0.317145     -0.326984     -0.070840     -0.052960      5.600000   \n",
       "50%        0.016594     -0.052139      0.001342      0.011244     22.000000   \n",
       "75%        0.350716      0.240952      0.091045      0.078280     77.165000   \n",
       "max        7.519589      3.517346     31.612198     33.847808  25691.160000   \n",
       "\n",
       "              Class  \n",
       "count 284807.000000  \n",
       "mean       0.001727  \n",
       "std        0.041527  \n",
       "min        0.000000  \n",
       "25%        0.000000  \n",
       "50%        0.000000  \n",
       "75%        0.000000  \n",
       "max        1.000000  \n",
       "\n",
       "[8 rows x 31 columns]"
      ]
     },
     "execution_count": 5,
     "metadata": {},
     "output_type": "execute_result"
    }
   ],
   "source": [
    "#print rangkuman statistik per feature\n",
    "pd.options.display.float_format = \"{:.6f}\".format\n",
    "data.describe(include='all')"
   ]
  },
  {
   "cell_type": "code",
   "execution_count": 6,
   "metadata": {},
   "outputs": [
    {
     "name": "stdout",
     "output_type": "stream",
     "text": [
      "No Frauds 99.83 % of the dataset\n",
      "Frauds 0.17 % of the dataset\n"
     ]
    }
   ],
   "source": [
    "print('No Frauds', round(data['Class'].value_counts()[0]/len(data) * 100,2), '% of the dataset')\n",
    "print('Frauds', round(data['Class'].value_counts()[1]/len(data) * 100,2), '% of the dataset')"
   ]
  },
  {
   "cell_type": "code",
   "execution_count": 7,
   "metadata": {},
   "outputs": [
    {
     "data": {
      "text/plain": [
       "Text(0.5, 1.0, 'Class Distributions \\n (0: No Fraud || 1: Fraud)')"
      ]
     },
     "execution_count": 7,
     "metadata": {},
     "output_type": "execute_result"
    },
    {
     "data": {
      "image/png": "[encoded data removed]",
      "text/plain": [
       "<Figure size 432x288 with 1 Axes>"
      ]
     },
     "metadata": {
      "needs_background": "light"
     },
     "output_type": "display_data"
    }
   ],
   "source": [
    "colors = [\"#0101DF\", \"#DF0101\"]\n",
    "\n",
    "sns.countplot('Class', data=data, palette=colors)\n",
    "plt.title('Class Distributions \\n (0: No Fraud || 1: Fraud)', fontsize=14)"
   ]
  },
  {
   "cell_type": "code",
   "execution_count": 8,
   "metadata": {},
   "outputs": [
    {
     "data": {
      "text/plain": [
       "Class\n",
       "0    284315\n",
       "1       492\n",
       "dtype: int64"
      ]
     },
     "execution_count": 8,
     "metadata": {},
     "output_type": "execute_result"
    }
   ],
   "source": [
    "data.groupby('Class').size()"
   ]
  },
  {
   "cell_type": "code",
   "execution_count": 9,
   "metadata": {},
   "outputs": [
    {
     "data": {
      "text/html": [
       "<div>\n",
       "<style scoped>\n",
       "    .dataframe tbody tr th:only-of-type {\n",
       "        vertical-align: middle;\n",
       "    }\n",
       "\n",
       "    .dataframe tbody tr th {\n",
       "        vertical-align: top;\n",
       "    }\n",
       "\n",
       "    .dataframe thead th {\n",
       "        text-align: right;\n",
       "    }\n",
       "</style>\n",
       "<table border=\"1\" class=\"dataframe\">\n",
       "  <thead>\n",
       "    <tr style=\"text-align: right;\">\n",
       "      <th></th>\n",
       "      <th>scaled_amount</th>\n",
       "      <th>V1</th>\n",
       "      <th>V2</th>\n",
       "      <th>V3</th>\n",
       "      <th>V4</th>\n",
       "      <th>V5</th>\n",
       "      <th>V6</th>\n",
       "      <th>V7</th>\n",
       "      <th>V8</th>\n",
       "      <th>V9</th>\n",
       "      <th>...</th>\n",
       "      <th>V20</th>\n",
       "      <th>V21</th>\n",
       "      <th>V22</th>\n",
       "      <th>V23</th>\n",
       "      <th>V24</th>\n",
       "      <th>V25</th>\n",
       "      <th>V26</th>\n",
       "      <th>V27</th>\n",
       "      <th>V28</th>\n",
       "      <th>Class</th>\n",
       "    </tr>\n",
       "  </thead>\n",
       "  <tbody>\n",
       "    <tr>\n",
       "      <th>0</th>\n",
       "      <td>0.244964</td>\n",
       "      <td>-1.359807</td>\n",
       "      <td>-0.072781</td>\n",
       "      <td>2.536347</td>\n",
       "      <td>1.378155</td>\n",
       "      <td>-0.338321</td>\n",
       "      <td>0.462388</td>\n",
       "      <td>0.239599</td>\n",
       "      <td>0.098698</td>\n",
       "      <td>0.363787</td>\n",
       "      <td>...</td>\n",
       "      <td>0.251412</td>\n",
       "      <td>-0.018307</td>\n",
       "      <td>0.277838</td>\n",
       "      <td>-0.110474</td>\n",
       "      <td>0.066928</td>\n",
       "      <td>0.128539</td>\n",
       "      <td>-0.189115</td>\n",
       "      <td>0.133558</td>\n",
       "      <td>-0.021053</td>\n",
       "      <td>0</td>\n",
       "    </tr>\n",
       "    <tr>\n",
       "      <th>1</th>\n",
       "      <td>-0.342475</td>\n",
       "      <td>1.191857</td>\n",
       "      <td>0.266151</td>\n",
       "      <td>0.166480</td>\n",
       "      <td>0.448154</td>\n",
       "      <td>0.060018</td>\n",
       "      <td>-0.082361</td>\n",
       "      <td>-0.078803</td>\n",
       "      <td>0.085102</td>\n",
       "      <td>-0.255425</td>\n",
       "      <td>...</td>\n",
       "      <td>-0.069083</td>\n",
       "      <td>-0.225775</td>\n",
       "      <td>-0.638672</td>\n",
       "      <td>0.101288</td>\n",
       "      <td>-0.339846</td>\n",
       "      <td>0.167170</td>\n",
       "      <td>0.125895</td>\n",
       "      <td>-0.008983</td>\n",
       "      <td>0.014724</td>\n",
       "      <td>0</td>\n",
       "    </tr>\n",
       "    <tr>\n",
       "      <th>2</th>\n",
       "      <td>1.160686</td>\n",
       "      <td>-1.358354</td>\n",
       "      <td>-1.340163</td>\n",
       "      <td>1.773209</td>\n",
       "      <td>0.379780</td>\n",
       "      <td>-0.503198</td>\n",
       "      <td>1.800499</td>\n",
       "      <td>0.791461</td>\n",
       "      <td>0.247676</td>\n",
       "      <td>-1.514654</td>\n",
       "      <td>...</td>\n",
       "      <td>0.524980</td>\n",
       "      <td>0.247998</td>\n",
       "      <td>0.771679</td>\n",
       "      <td>0.909412</td>\n",
       "      <td>-0.689281</td>\n",
       "      <td>-0.327642</td>\n",
       "      <td>-0.139097</td>\n",
       "      <td>-0.055353</td>\n",
       "      <td>-0.059752</td>\n",
       "      <td>0</td>\n",
       "    </tr>\n",
       "    <tr>\n",
       "      <th>3</th>\n",
       "      <td>0.140534</td>\n",
       "      <td>-0.966272</td>\n",
       "      <td>-0.185226</td>\n",
       "      <td>1.792993</td>\n",
       "      <td>-0.863291</td>\n",
       "      <td>-0.010309</td>\n",
       "      <td>1.247203</td>\n",
       "      <td>0.237609</td>\n",
       "      <td>0.377436</td>\n",
       "      <td>-1.387024</td>\n",
       "      <td>...</td>\n",
       "      <td>-0.208038</td>\n",
       "      <td>-0.108300</td>\n",
       "      <td>0.005274</td>\n",
       "      <td>-0.190321</td>\n",
       "      <td>-1.175575</td>\n",
       "      <td>0.647376</td>\n",
       "      <td>-0.221929</td>\n",
       "      <td>0.062723</td>\n",
       "      <td>0.061458</td>\n",
       "      <td>0</td>\n",
       "    </tr>\n",
       "    <tr>\n",
       "      <th>4</th>\n",
       "      <td>-0.073403</td>\n",
       "      <td>-1.158233</td>\n",
       "      <td>0.877737</td>\n",
       "      <td>1.548718</td>\n",
       "      <td>0.403034</td>\n",
       "      <td>-0.407193</td>\n",
       "      <td>0.095921</td>\n",
       "      <td>0.592941</td>\n",
       "      <td>-0.270533</td>\n",
       "      <td>0.817739</td>\n",
       "      <td>...</td>\n",
       "      <td>0.408542</td>\n",
       "      <td>-0.009431</td>\n",
       "      <td>0.798278</td>\n",
       "      <td>-0.137458</td>\n",
       "      <td>0.141267</td>\n",
       "      <td>-0.206010</td>\n",
       "      <td>0.502292</td>\n",
       "      <td>0.219422</td>\n",
       "      <td>0.215153</td>\n",
       "      <td>0</td>\n",
       "    </tr>\n",
       "  </tbody>\n",
       "</table>\n",
       "<p>5 rows × 30 columns</p>\n",
       "</div>"
      ],
      "text/plain": [
       "   scaled_amount        V1        V2       V3        V4        V5        V6  \\\n",
       "0       0.244964 -1.359807 -0.072781 2.536347  1.378155 -0.338321  0.462388   \n",
       "1      -0.342475  1.191857  0.266151 0.166480  0.448154  0.060018 -0.082361   \n",
       "2       1.160686 -1.358354 -1.340163 1.773209  0.379780 -0.503198  1.800499   \n",
       "3       0.140534 -0.966272 -0.185226 1.792993 -0.863291 -0.010309  1.247203   \n",
       "4      -0.073403 -1.158233  0.877737 1.548718  0.403034 -0.407193  0.095921   \n",
       "\n",
       "         V7        V8        V9  ...       V20       V21       V22       V23  \\\n",
       "0  0.239599  0.098698  0.363787  ...  0.251412 -0.018307  0.277838 -0.110474   \n",
       "1 -0.078803  0.085102 -0.255425  ... -0.069083 -0.225775 -0.638672  0.101288   \n",
       "2  0.791461  0.247676 -1.514654  ...  0.524980  0.247998  0.771679  0.909412   \n",
       "3  0.237609  0.377436 -1.387024  ... -0.208038 -0.108300  0.005274 -0.190321   \n",
       "4  0.592941 -0.270533  0.817739  ...  0.408542 -0.009431  0.798278 -0.137458   \n",
       "\n",
       "        V24       V25       V26       V27       V28  Class  \n",
       "0  0.066928  0.128539 -0.189115  0.133558 -0.021053      0  \n",
       "1 -0.339846  0.167170  0.125895 -0.008983  0.014724      0  \n",
       "2 -0.689281 -0.327642 -0.139097 -0.055353 -0.059752      0  \n",
       "3 -1.175575  0.647376 -0.221929  0.062723  0.061458      0  \n",
       "4  0.141267 -0.206010  0.502292  0.219422  0.215153      0  \n",
       "\n",
       "[5 rows x 30 columns]"
      ]
     },
     "execution_count": 9,
     "metadata": {},
     "output_type": "execute_result"
    }
   ],
   "source": [
    "from sklearn.preprocessing import StandardScaler, RobustScaler\n",
    "\n",
    "# RobustScaler menghilangkan median dan men-scale data berdasarkan quartile range-nya\n",
    "# StandardScaler menghilangkan mean dan men-scale data ke unit variance\n",
    "\n",
    "std_scaler = StandardScaler()\n",
    "rob_scaler = RobustScaler()\n",
    "\n",
    "data['scaled_amount'] = std_scaler.fit_transform(data['Amount'].values.reshape(-1,1))\n",
    "#data['scaled_time'] = rob_scaler.fit_transform(data['Time'].values.reshape(-1,1))\n",
    "\n",
    "data.drop(['Time','Amount'], axis=1, inplace=True)\n",
    "\n",
    "#mengubah nama kolom Time Amount menjadi scaled_time dan scaled_amount\n",
    "scaled_amount = data['scaled_amount']\n",
    "#scaled_time = data['scaled_time']\n",
    "\n",
    "data.drop(['scaled_amount'], axis=1, inplace=True)\n",
    "data.insert(0, 'scaled_amount', scaled_amount)\n",
    "#data.insert(1, 'scaled_time', scaled_time)\n",
    "\n",
    "data.head()"
   ]
  },
  {
   "cell_type": "code",
   "execution_count": 10,
   "metadata": {},
   "outputs": [],
   "source": [
    "fraud_data_all = data2.loc[data2['Class'] == 1]\n",
    "nonFraud_data_all = data2.loc[data2['Class']==0]\n",
    "\n",
    "#menggabungkan data fraud dan non-fraud\n",
    "normal_distributed_data_all = pd.concat([fraud_data_all, nonFraud_data_all])\n",
    "normal_distributed_data_all.shape\n",
    "#normal_distributed_data_all.head()\n",
    "# data2.head()\n",
    "#fraud_data_all.shape\n",
    "\n",
    "X = normal_distributed_data_all.drop('Class', axis=1)\n",
    "y = normal_distributed_data_all['Class']\n",
    "#X2 --> variabel label untuk prediksi\n",
    "#y2 --> variabel feature, semua kolom kecuali X (Class)\n",
    "#Memecah dataframe baru menjadi training dan test set\n",
    "from sklearn.model_selection import train_test_split\n",
    "\n",
    "X_train, X_test, y_train, y_test = train_test_split(X,y, test_size=0.2, random_state=42)"
   ]
  },
  {
   "cell_type": "code",
   "execution_count": 11,
   "metadata": {},
   "outputs": [
    {
     "name": "stdout",
     "output_type": "stream",
     "text": [
      "Rincian class pada data training Counter({0: 227449, 1: 396}) dan testing Counter({0: 56866, 1: 96}) \n"
     ]
    }
   ],
   "source": [
    "print (\"Rincian class pada data training {} dan testing {} \" .format(Counter(y_train), Counter(y_test)))"
   ]
  },
  {
   "cell_type": "code",
   "execution_count": 12,
   "metadata": {},
   "outputs": [
    {
     "data": {
      "text/plain": [
       "(227845, 29)"
      ]
     },
     "execution_count": 12,
     "metadata": {},
     "output_type": "execute_result"
    }
   ],
   "source": [
    "X_train.shape"
   ]
  },
  {
   "cell_type": "code",
   "execution_count": 13,
   "metadata": {},
   "outputs": [
    {
     "data": {
      "text/plain": [
       "(56962, 29)"
      ]
     },
     "execution_count": 13,
     "metadata": {},
     "output_type": "execute_result"
    }
   ],
   "source": [
    "X_test.shape"
   ]
  },
  {
   "cell_type": "code",
   "execution_count": 14,
   "metadata": {},
   "outputs": [
    {
     "name": "stderr",
     "output_type": "stream",
     "text": [
      "C:\\Users\\Muhsin Ahadi\\Anaconda3\\lib\\site-packages\\ipykernel_launcher.py:1: SettingWithCopyWarning: \n",
      "A value is trying to be set on a copy of a slice from a DataFrame.\n",
      "Try using .loc[row_indexer,col_indexer] = value instead\n",
      "\n",
      "See the caveats in the documentation: http://pandas.pydata.org/pandas-docs/stable/indexing.html#indexing-view-versus-copy\n",
      "  \"\"\"Entry point for launching an IPython kernel.\n"
     ]
    }
   ],
   "source": [
    "X_train['Class'] = y_train"
   ]
  },
  {
   "cell_type": "code",
   "execution_count": 15,
   "metadata": {},
   "outputs": [],
   "source": [
    "non_fraud = X_train.loc[X_train['Class']==0]\n",
    "fraud = X_train.loc[X_train['Class']==1]\n",
    "\n",
    "non_fraud_points = non_fraud.drop('Class', axis = 1)\n",
    "fraud_points = fraud.drop('Class', axis = 1)\n",
    "\n",
    "non_fraud_points=np.array(non_fraud_points)\n",
    "fraud_points = np.array (fraud_points)"
   ]
  },
  {
   "cell_type": "code",
   "execution_count": 16,
   "metadata": {},
   "outputs": [
    {
     "data": {
      "text/plain": [
       "(396, 227449)"
      ]
     },
     "execution_count": 16,
     "metadata": {},
     "output_type": "execute_result"
    }
   ],
   "source": [
    "from scipy.spatial import distance\n",
    "Y = distance.cdist(fraud_points, non_fraud_points, 'euclidean')\n",
    "\n",
    "#mengurutkan hasil secara ascending\n",
    "K = np.argsort(Y)\n",
    "# print (Y)\n",
    "# print (\"Urutan data: \\n\", K)\n",
    "Y.sort()\n",
    "# print (\"After short: \\n\", Y)\n",
    "Y.shape"
   ]
  },
  {
   "cell_type": "code",
   "execution_count": 17,
   "metadata": {},
   "outputs": [
    {
     "name": "stdout",
     "output_type": "stream",
     "text": [
      "(3564, 30)\n",
      "(816, 30)\n"
     ]
    }
   ],
   "source": [
    "array_new = np.array(non_fraud_points[K[:,0:9]])\n",
    "array_new.shape\n",
    "XX= array_new.transpose(0,1,2).reshape(array_new.shape[0]*array_new.shape[1],29)\n",
    "# XX\n",
    "zeros_value = np.zeros((array_new.shape[0]*array_new.shape[1],1))\n",
    "new_X = np.concatenate ((XX, zeros_value), axis=1)\n",
    "\n",
    "print (new_X.shape)\n",
    "new_X= np.unique(new_X,axis=0)\n",
    "print (new_X.shape)"
   ]
  },
  {
   "cell_type": "code",
   "execution_count": 18,
   "metadata": {},
   "outputs": [
    {
     "name": "stdout",
     "output_type": "stream",
     "text": [
      "Setelah undersampling, komponen data: Counter({0.0: 816, 1.0: 396})\n"
     ]
    }
   ],
   "source": [
    "array_minority = np.array(fraud)\n",
    "joined_resampling = np.concatenate((array_minority,new_X), axis=0)\n",
    "\n",
    "X_resample = joined_resampling[:,0:29]\n",
    "# X_resample = std_scaler.fit_transform(X_resample)\n",
    "y_resample = joined_resampling[:,29]\n",
    "# print (y)\n",
    "\n",
    "print ('Setelah undersampling, komponen data: {}' .format(Counter(y_resample)))"
   ]
  },
  {
   "cell_type": "code",
   "execution_count": 19,
   "metadata": {},
   "outputs": [
    {
     "data": {
      "text/plain": [
       "(1212, 29)"
      ]
     },
     "execution_count": 19,
     "metadata": {},
     "output_type": "execute_result"
    }
   ],
   "source": [
    "svm = SVC(gamma=1.5, kernel='rbf', C=1)\n",
    "svm.fit(X_resample,y_resample)\n",
    "X_resample.shape"
   ]
  },
  {
   "cell_type": "code",
   "execution_count": 20,
   "metadata": {},
   "outputs": [
    {
     "name": "stdout",
     "output_type": "stream",
     "text": [
      "[[816   0]\n",
      " [  5 391]]\n",
      "              precision    recall  f1-score   support\n",
      "\n",
      "         0.0       0.99      1.00      1.00       816\n",
      "         1.0       1.00      0.99      0.99       396\n",
      "\n",
      "   micro avg       1.00      1.00      1.00      1212\n",
      "   macro avg       1.00      0.99      1.00      1212\n",
      "weighted avg       1.00      1.00      1.00      1212\n",
      "\n",
      "0.9936668140648239\n"
     ]
    }
   ],
   "source": [
    "from sklearn.metrics import confusion_matrix\n",
    "\n",
    "y_pred = svm.predict(X_resample)\n",
    "conf_matrix_train = confusion_matrix(y_resample, y_pred)\n",
    "print (conf_matrix_train)\n",
    "# print (X.shape)\n",
    "print (classification_report(y_resample, y_pred))\n",
    "G_mean = geometric_mean_score(y_resample, y_pred)\n",
    "print (G_mean)"
   ]
  },
  {
   "cell_type": "code",
   "execution_count": 21,
   "metadata": {},
   "outputs": [
    {
     "name": "stdout",
     "output_type": "stream",
     "text": [
      "(56962, 29)\n",
      "Rincian class pada data  testing Counter({0.0: 56866, 1.0: 96}) \n"
     ]
    },
    {
     "name": "stderr",
     "output_type": "stream",
     "text": [
      "C:\\Users\\Muhsin Ahadi\\Anaconda3\\lib\\site-packages\\ipykernel_launcher.py:1: SettingWithCopyWarning: \n",
      "A value is trying to be set on a copy of a slice from a DataFrame.\n",
      "Try using .loc[row_indexer,col_indexer] = value instead\n",
      "\n",
      "See the caveats in the documentation: http://pandas.pydata.org/pandas-docs/stable/indexing.html#indexing-view-versus-copy\n",
      "  \"\"\"Entry point for launching an IPython kernel.\n"
     ]
    }
   ],
   "source": [
    "X_test['Class'] = y_test\n",
    "non_fraud2 = X_test.loc[X_test['Class']==0]\n",
    "fraud2 = X_test.loc[X_test['Class']==1]\n",
    "\n",
    "non_fraud2_points2 = non_fraud2.drop('Class', axis = 1)\n",
    "fraud2_points2 = fraud2.drop('Class', axis = 1)\n",
    "\n",
    "non_fraud2_points2=np.array(non_fraud2_points2)\n",
    "fraud2_points2 = np.array (fraud2_points2)\n",
    "\n",
    "zeros_value2 = np.zeros((non_fraud2_points2.shape[0],1), dtype=np.int8)\n",
    "\n",
    "new_non_fraud = np.concatenate((non_fraud2_points2, zeros_value2), axis=1)\n",
    "\n",
    "array_majority2 = np.array(fraud2)\n",
    "joined_testing =np.concatenate ((array_majority2, new_non_fraud), axis =0)\n",
    "\n",
    "X_test_new = joined_testing[:,0:29]\n",
    "# X_test_new = rob_scaler.fit_transform(X_test_new)\n",
    "y_test_new = joined_testing[:,29]\n",
    "\n",
    "\n",
    "print (X_test_new.shape)\n",
    "print (\"Rincian class pada data  testing {} \" .format(Counter(y_test_new)))"
   ]
  },
  {
   "cell_type": "code",
   "execution_count": 22,
   "metadata": {},
   "outputs": [
    {
     "name": "stdout",
     "output_type": "stream",
     "text": [
      "(56962, 29)\n",
      "[[56866     0]\n",
      " [   92     4]]\n",
      "              precision    recall  f1-score   support\n",
      "\n",
      "         0.0       1.00      1.00      1.00     56866\n",
      "         1.0       1.00      0.04      0.08        96\n",
      "\n",
      "   micro avg       1.00      1.00      1.00     56962\n",
      "   macro avg       1.00      0.52      0.54     56962\n",
      "weighted avg       1.00      1.00      1.00     56962\n",
      "\n",
      "0.2041241452319315\n"
     ]
    }
   ],
   "source": [
    "y_pred_test = svm.predict(X_test_new)\n",
    "print(X_test_new.shape)\n",
    "conf_matrix_test = confusion_matrix(y_test_new, y_pred_test)\n",
    "print (conf_matrix_test)\n",
    "# print (X_test.dtype)\n",
    "print(classification_report(y_test_new, y_pred_test))\n",
    "G_mean_test = geometric_mean_score (y_test_new, y_pred_test)\n",
    "print (G_mean_test)"
   ]
  },
  {
   "cell_type": "code",
   "execution_count": 23,
   "metadata": {},
   "outputs": [
    {
     "name": "stdout",
     "output_type": "stream",
     "text": [
      "int64\n"
     ]
    },
    {
     "data": {
      "image/png": "[encoded data removed]",
      "text/plain": [
       "<Figure size 576x360 with 1 Axes>"
      ]
     },
     "metadata": {
      "needs_background": "light"
     },
     "output_type": "display_data"
    }
   ],
   "source": [
    "import matplotlib.pyplot as plt\n",
    "from matplotlib.lines import Line2D\n",
    "\n",
    "fig, ax = plt.subplots(1,figsize=(8,5))\n",
    "X_resample = X_resample[:,20:22]\n",
    "\n",
    "classifier = svm.fit(X_resample,y_resample)\n",
    "print(y.dtype)\n",
    "plot_decision_function(X_resample,y_resample,classifier,ax)\n",
    "fig.tight_layout()"
   ]
  },
  {
   "cell_type": "code",
   "execution_count": null,
   "metadata": {},
   "outputs": [
    {
     "data": {
      "image/png": "[encoded data removed]",
      "text/plain": [
       "<Figure size 576x360 with 1 Axes>"
      ]
     },
     "metadata": {
      "needs_background": "light"
     },
     "output_type": "display_data"
    }
   ],
   "source": [
    "from sklearn.decomposition import PCA\n",
    "\n",
    "fig, ax = plt.subplots(1,figsize=(8,5))\n",
    "\n",
    "pca = PCA(n_components=2)\n",
    "Xreduced = pca.fit_transform(X_resample)\n",
    "\n",
    "classifier = svm.fit(Xreduced, y_resample)\n",
    "plot_decision_function(Xreduced,y_resample, classifier, ax)\n",
    "fig.tight_layout()"
   ]
  },
  {
   "cell_type": "code",
   "execution_count": null,
   "metadata": {},
   "outputs": [],
   "source": [
    "fig, ax = plt.subplots(1,figsize=(8,5))\n",
    "\n",
    "pca = PCA(n_components=2)\n",
    "Xreduced_test = pca.fit_transform(X_test_new)\n",
    "\n",
    "classifier = svm.fit(Xreduced_test, y_test_new)\n",
    "plot_decision_function(Xreduced_test,y_test_new, classifier, ax)\n",
    "fig.tight_layout()"
   ]
  },
  {
   "cell_type": "code",
   "execution_count": null,
   "metadata": {},
   "outputs": [],
   "source": []
  }
 ],
 "metadata": {
  "kernelspec": {
   "display_name": "Python 3",
   "language": "python",
   "name": "python3"
  },
  "language_info": {
   "codemirror_mode": {
    "name": "ipython",
    "version": 3
   },
   "file_extension": ".py",
   "mimetype": "text/x-python",
   "name": "python",
   "nbconvert_exporter": "python",
   "pygments_lexer": "ipython3",
   "version": "3.7.3"
  }
 },
 "nbformat": 4,
 "nbformat_minor": 2
}
