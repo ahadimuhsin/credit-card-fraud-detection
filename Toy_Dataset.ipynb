{
 "cells": [
  {
   "cell_type": "code",
   "execution_count": 1,
   "metadata": {},
   "outputs": [],
   "source": [
    "from collections import Counter\n",
    "\n",
    "import matplotlib.pyplot as plt\n",
    "import numpy as np\n",
    "\n",
    "from sklearn.datasets import make_classification\n",
    "from sklearn.linear_model import LogisticRegression\n",
    "from sklearn.neighbors import KNeighborsClassifier\n",
    "from sklearn.svm import SVC\n",
    "from sklearn.tree import DecisionTreeClassifier\n",
    "from sklearn.ensemble import RandomForestClassifier\n",
    "from imblearn.pipeline import make_pipeline\n",
    "from imblearn.under_sampling import EditedNearestNeighbours\n",
    "from sklearn.metrics import precision_score, recall_score, f1_score, roc_auc_score, accuracy_score, classification_report\n",
    "from imblearn.metrics import geometric_mean_score"
   ]
  },
  {
   "cell_type": "code",
   "execution_count": 2,
   "metadata": {},
   "outputs": [],
   "source": [
    "def create_dataset(n_samples=5000, weights = (0.5,0.5), n_classes=2,\n",
    "                   class_sep=0.8, n_clusters = 1):\n",
    "    return make_classification(n_samples=n_samples, n_features=2,\n",
    "                               n_informative=2, n_redundant=0, n_repeated=0,\n",
    "                               n_classes=n_classes,\n",
    "                               n_clusters_per_class=n_clusters,\n",
    "                               weights=list(weights),\n",
    "                               class_sep=class_sep, random_state=0)"
   ]
  },
  {
   "cell_type": "code",
   "execution_count": 3,
   "metadata": {},
   "outputs": [
    {
     "name": "stdout",
     "output_type": "stream",
     "text": [
      "Komponen dataset sebelum undersampling = Counter({0: 4582, 1: 418})\n"
     ]
    },
    {
     "name": "stderr",
     "output_type": "stream",
     "text": [
      "c:\\users\\muhsin ahadi\\appdata\\local\\programs\\python\\python37\\lib\\site-packages\\sklearn\\linear_model\\logistic.py:433: FutureWarning: Default solver will be changed to 'lbfgs' in 0.22. Specify a solver to silence this warning.\n",
      "  FutureWarning)\n"
     ]
    },
    {
     "name": "stdout",
     "output_type": "stream",
     "text": [
      "Komponen dataset setelah undersampling = Counter({0: 4492, 1: 418})\n"
     ]
    }
   ],
   "source": [
    "#Membuat toy dataset\n",
    "X, y = create_dataset (n_samples=5000, weights = (0.92, 0.08), class_sep=0.8)\n",
    "print (\"Komponen dataset sebelum undersampling = {}\" .format(Counter(y)))\n",
    "\n",
    "#Undersampling Dataset\n",
    "sampler = EditedNearestNeighbours(random_state = 0)\n",
    "X_enn, y_enn = sampler.fit_resample (X,y)\n",
    "\n",
    "#Train dataset dengan classifier\n",
    "clf_logreg = LogisticRegression(C=0.1, penalty='l1').fit(X_enn,y_enn)\n",
    "clf_knn = KNeighborsClassifier(n_neighbors=3, algorithm='auto', metric='euclidean').fit(X_enn, y_enn)\n",
    "clf_svm = SVC(gamma=2, C=1).fit(X_enn, y_enn)\n",
    "clf_dt = DecisionTreeClassifier(max_depth=5).fit(X_enn, y_enn)\n",
    "clf_rf = RandomForestClassifier(max_depth=5, n_estimators=10, max_features='auto').fit(X_enn, y_enn)\n",
    "\n",
    "print (\"Komponen dataset setelah undersampling = {}\" .format(Counter(y_enn)))\n"
   ]
  },
  {
   "cell_type": "code",
   "execution_count": 4,
   "metadata": {},
   "outputs": [
    {
     "data": {
      "image/png": "[encoded data removed]",
      "text/plain": [
       "<Figure size 360x288 with 2 Axes>"
      ]
     },
     "metadata": {
      "needs_background": "light"
     },
     "output_type": "display_data"
    }
   ],
   "source": [
    "from sklearn.metrics import confusion_matrix\n",
    "\n",
    "#Menerapkan confusion matrix pada testing set\n",
    "y_pred_log_reg = clf_logreg.predict(X_enn)\n",
    "\n",
    "\n",
    "#log\n",
    "#mengganti testing setnya dengan testing set untuk data keseluruhan\n",
    "log_reg_cf = confusion_matrix(y_enn, y_pred_log_reg)\n",
    "\n",
    "import itertools\n",
    "\n",
    "# Create a confusion matrix\n",
    "def plot_confusion_matrix(cm, classes,\n",
    "                          normalize=False,\n",
    "                          title='Confusion matrix',\n",
    "                          cmap=plt.cm.Blues):\n",
    "    plt.imshow(cm, interpolation='nearest', cmap=cmap)\n",
    "    plt.title(title, fontsize=14)\n",
    "    plt.colorbar()\n",
    "    tick_marks = np.arange(len(classes))\n",
    "    plt.xticks(tick_marks, classes, rotation=0)\n",
    "    plt.yticks(tick_marks, classes)\n",
    "\n",
    "    fmt = '.2f' if normalize else 'd'\n",
    "    thresh = cm.max() / 2.\n",
    "    for i, j in itertools.product(range(cm.shape[0]), range(cm.shape[1])):\n",
    "        plt.text(j, i, format(cm[i, j], fmt),\n",
    "                 horizontalalignment=\"center\",\n",
    "                 color=\"black\" if cm[i, j] > thresh else \"white\")\n",
    "\n",
    "    plt.tight_layout()\n",
    "    plt.ylabel('True label')\n",
    "    plt.xlabel('Predicted label')\n",
    "labels = ['Negative', 'Positive']\n",
    "\n",
    "fig = plt.figure(figsize=(5,4))\n",
    "\n",
    "plot_confusion_matrix(log_reg_cf, labels, title=\"Confusion Matrix Logistic Regression \\n Under Sampling {}\" .format(sampler.__class__.__name__) , cmap=plt.cm.inferno)"
   ]
  },
  {
   "cell_type": "code",
   "execution_count": 5,
   "metadata": {},
   "outputs": [
    {
     "name": "stdout",
     "output_type": "stream",
     "text": [
      "Classification Report Logistic Regression:\n",
      "Recall Score: 0.94\n",
      "Precision Score: 0.97\n",
      "F1 Score: 0.96\n",
      "G-Mean untuk Logistic Regresion with EditedNearestNeighbours:  0.9709078335034151\n",
      "\n",
      "Classification Report K Nearest Neighbor:\n",
      "Recall Score: 0.95\n",
      "Precision Score: 1.00\n",
      "F1 Score: 0.97\n",
      "G-Mean untuk K Nearest Neighbor with EditedNearestNeighbours:  0.9733285267845752\n",
      "\n",
      "Classification Report Support Vector Machine:\n",
      "Recall Score: 0.94\n",
      "Precision Score: 1.00\n",
      "F1 Score: 0.97\n",
      "G-Mean untuk Support Vector Machine with EditedNearestNeighbours:  0.9720987997909595\n",
      "\n",
      "Classification Report Decision Tree:\n",
      "Recall Score: 0.95\n",
      "Precision Score: 1.00\n",
      "F1 Score: 0.97\n",
      "G-Mean untuk Decision Tree with EditedNearestNeighbours:  0.9733285267845752\n",
      "\n",
      "Classification Report Random Forest:\n",
      "Recall Score: 0.95\n",
      "Precision Score: 0.99\n",
      "F1 Score: 0.97\n",
      "G-Mean untuk Random Forest with EditedNearestNeighbours:  0.9731118222228814\n"
     ]
    }
   ],
   "source": [
    "from sklearn.metrics import recall_score, precision_score, f1_score, accuracy_score\n",
    "##Logistic Regression\n",
    "y_pred_logreg = clf_logreg.predict(X_enn)\n",
    "\n",
    "print ('Classification Report Logistic Regression:')\n",
    "print('Recall Score: {:.2f}'.format(recall_score(y_enn, y_pred_logreg)))\n",
    "print('Precision Score: {:.2f}'.format(precision_score(y_enn, y_pred_logreg)))\n",
    "print('F1 Score: {:.2f}'.format(f1_score(y_enn, y_pred_logreg)))\n",
    "\n",
    "G_mean_under_sampling_enn = geometric_mean_score (y_enn, y_pred_logreg)\n",
    "\n",
    "print (\"G-Mean untuk Logistic Regresion with {}: \" .format(sampler.__class__.__name__) , G_mean_under_sampling_enn)\n",
    "\n",
    "#KNearest Neighbor\n",
    "y_pred_knn = clf_knn.predict(X_enn)\n",
    "\n",
    "print ('\\nClassification Report K Nearest Neighbor:')\n",
    "print('Recall Score: {:.2f}'.format(recall_score(y_enn, y_pred_knn)))\n",
    "print('Precision Score: {:.2f}'.format(precision_score(y_enn, y_pred_knn)))\n",
    "print('F1 Score: {:.2f}'.format(f1_score(y_enn, y_pred_knn)))\n",
    "\n",
    "G_mean_under_sampling_enn = geometric_mean_score (y_enn, y_pred_knn)\n",
    "\n",
    "print (\"G-Mean untuk K Nearest Neighbor with {}: \" .format(sampler.__class__.__name__) , G_mean_under_sampling_enn)\n",
    "\n",
    "#SVM\n",
    "y_pred_svm = clf_svm.predict(X_enn)\n",
    "\n",
    "print ('\\nClassification Report Support Vector Machine:')\n",
    "print('Recall Score: {:.2f}'.format(recall_score(y_enn, y_pred_svm)))\n",
    "print('Precision Score: {:.2f}'.format(precision_score(y_enn, y_pred_svm)))\n",
    "print('F1 Score: {:.2f}'.format(f1_score(y_enn, y_pred_svm)))\n",
    "\n",
    "G_mean_under_sampling_enn = geometric_mean_score (y_enn, y_pred_svm)\n",
    "\n",
    "print (\"G-Mean untuk Support Vector Machine with {}: \" .format(sampler.__class__.__name__) , G_mean_under_sampling_enn)\n",
    "\n",
    "#Decision Tree\n",
    "y_pred_dt = clf_dt.predict(X_enn)\n",
    "\n",
    "print ('\\nClassification Report Decision Tree:')\n",
    "print('Recall Score: {:.2f}'.format(recall_score(y_enn, y_pred_dt)))\n",
    "print('Precision Score: {:.2f}'.format(precision_score(y_enn, y_pred_dt)))\n",
    "print('F1 Score: {:.2f}'.format(f1_score(y_enn, y_pred_dt)))\n",
    "\n",
    "G_mean_under_sampling_enn = geometric_mean_score (y_enn, y_pred_dt)\n",
    "\n",
    "print (\"G-Mean untuk Decision Tree with {}: \" .format(sampler.__class__.__name__) , G_mean_under_sampling_enn)\n",
    "\n",
    "#Random Forest\n",
    "y_pred_rf = clf_rf.predict(X_enn)\n",
    "\n",
    "print ('\\nClassification Report Random Forest:')\n",
    "print('Recall Score: {:.2f}'.format(recall_score(y_enn, y_pred_rf)))\n",
    "print('Precision Score: {:.2f}'.format(precision_score(y_enn, y_pred_rf)))\n",
    "print('F1 Score: {:.2f}'.format(f1_score(y_enn, y_pred_rf)))\n",
    "\n",
    "G_mean_under_sampling_enn = geometric_mean_score (y_enn, y_pred_rf)\n",
    "\n",
    "print (\"G-Mean untuk Random Forest with {}: \" .format(sampler.__class__.__name__) , G_mean_under_sampling_enn)"
   ]
  },
  {
   "cell_type": "code",
   "execution_count": null,
   "metadata": {},
   "outputs": [],
   "source": []
  }
 ],
 "metadata": {
  "kernelspec": {
   "display_name": "Python 3",
   "language": "python",
   "name": "python3"
  },
  "language_info": {
   "codemirror_mode": {
    "name": "ipython",
    "version": 3
   },
   "file_extension": ".py",
   "mimetype": "text/x-python",
   "name": "python",
   "nbconvert_exporter": "python",
   "pygments_lexer": "ipython3",
   "version": "3.7.3"
  }
 },
 "nbformat": 4,
 "nbformat_minor": 2
}
