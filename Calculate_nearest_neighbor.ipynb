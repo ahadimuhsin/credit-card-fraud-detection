{
 "cells": [
  {
   "cell_type": "code",
   "execution_count": 1,
   "metadata": {},
   "outputs": [
    {
     "name": "stdout",
     "output_type": "stream",
     "text": [
      "[[1 1]\n",
      " [1 2]\n",
      " [1 3]\n",
      " [1 4]\n",
      " [1 5]\n",
      " [2 1]\n",
      " [2 2]\n",
      " [2 4]\n",
      " [2 5]\n",
      " [3 1]\n",
      " [3 2]\n",
      " [3 5]\n",
      " [4 1]\n",
      " [4 4]\n",
      " [4 5]\n",
      " [5 1]\n",
      " [5 2]\n",
      " [5 3]\n",
      " [5 4]\n",
      " [5 5]]\n",
      "[[2 3]\n",
      " [3 3]\n",
      " [3 4]\n",
      " [4 2]\n",
      " [4 3]]\n"
     ]
    }
   ],
   "source": [
    "import numpy as np\n",
    "import matplotlib.pyplot as plt\n",
    "import pandas as pd\n",
    "import array\n",
    "from scipy import spatial\n",
    "# my_array = np.genfromtxt('data.txt', skip_header=1, delimiter=',')\n",
    "# my_array = np.array (my_array)\n",
    "# print (my_array)\n",
    "# new_my_array=np.delete(my_array, 2, axis=1)\n",
    "# X = np.delete(new_my_array,1,axis=1)\n",
    "# y = np.delete(new_my_array,0,axis=1)\n",
    "# print (new_my_array)\n",
    "# print(X)\n",
    "# print (y)\n",
    "\n",
    "#membaca file, mendefine majority dan minority berdasarkan valuenya\n",
    "data = pd.read_csv('data.csv')\n",
    "majority = data.loc[data['class']==0]\n",
    "minority = data.loc[data['class']==1]\n",
    "\n",
    "#menghapus kolom class\n",
    "majority_points=majority.drop('class', axis=1)\n",
    "minority_points=minority.drop('class', axis=1)\n",
    "\n",
    "all_data = pd.concat([majority,minority])\n",
    "\n",
    "data_points = all_data.drop('class', axis=1)\n",
    "# print(data_points)\n",
    "\n",
    "majority_points=np.array(majority_points)\n",
    "print (majority_points)\n",
    "minority_points =np.array(minority_points)\n",
    "print (minority_points)\n",
    "# minority_points[spatial.KDTree(minority_points).query(majority_points)[1]]"
   ]
  },
  {
   "cell_type": "code",
   "execution_count": 2,
   "metadata": {},
   "outputs": [
    {
     "data": {
      "text/plain": [
       "class\n",
       "0    20\n",
       "1     5\n",
       "dtype: int64"
      ]
     },
     "execution_count": 2,
     "metadata": {},
     "output_type": "execute_result"
    }
   ],
   "source": [
    "data.groupby('class').size()"
   ]
  },
  {
   "cell_type": "code",
   "execution_count": 3,
   "metadata": {},
   "outputs": [
    {
     "name": "stdout",
     "output_type": "stream",
     "text": [
      "[[2.23606798 1.41421356 1.         1.41421356 2.23606798 2.\n",
      "  1.         1.         2.         2.23606798 1.41421356 2.23606798\n",
      "  2.82842712 2.23606798 2.82842712 3.60555128 3.16227766 3.\n",
      "  3.16227766 3.60555128]\n",
      " [2.82842712 2.23606798 2.         2.23606798 2.82842712 2.23606798\n",
      "  1.41421356 1.41421356 2.23606798 2.         1.         2.\n",
      "  2.23606798 1.41421356 2.23606798 2.82842712 2.23606798 2.\n",
      "  2.23606798 2.82842712]\n",
      " [3.60555128 2.82842712 2.23606798 2.         2.23606798 3.16227766\n",
      "  2.23606798 1.         1.41421356 3.         2.         1.\n",
      "  3.16227766 1.         1.41421356 3.60555128 2.82842712 2.23606798\n",
      "  2.         2.23606798]\n",
      " [3.16227766 3.         3.16227766 3.60555128 4.24264069 2.23606798\n",
      "  2.         2.82842712 3.60555128 1.41421356 1.         3.16227766\n",
      "  1.         2.         3.         1.41421356 1.         1.41421356\n",
      "  2.23606798 3.16227766]\n",
      " [3.60555128 3.16227766 3.         3.16227766 3.60555128 2.82842712\n",
      "  2.23606798 2.23606798 2.82842712 2.23606798 1.41421356 2.23606798\n",
      "  2.         1.         2.         2.23606798 1.41421356 1.\n",
      "  1.41421356 2.23606798]]\n",
      "After short: \n",
      " [[1.         1.         1.         1.41421356 1.41421356 1.41421356\n",
      "  2.         2.         2.23606798 2.23606798 2.23606798 2.23606798\n",
      "  2.23606798 2.82842712 2.82842712 3.         3.16227766 3.16227766\n",
      "  3.60555128 3.60555128]\n",
      " [1.         1.41421356 1.41421356 1.41421356 2.         2.\n",
      "  2.         2.         2.23606798 2.23606798 2.23606798 2.23606798\n",
      "  2.23606798 2.23606798 2.23606798 2.23606798 2.82842712 2.82842712\n",
      "  2.82842712 2.82842712]\n",
      " [1.         1.         1.         1.41421356 1.41421356 2.\n",
      "  2.         2.         2.23606798 2.23606798 2.23606798 2.23606798\n",
      "  2.23606798 2.82842712 2.82842712 3.         3.16227766 3.16227766\n",
      "  3.60555128 3.60555128]\n",
      " [1.         1.         1.         1.41421356 1.41421356 1.41421356\n",
      "  2.         2.         2.23606798 2.23606798 2.82842712 3.\n",
      "  3.         3.16227766 3.16227766 3.16227766 3.16227766 3.60555128\n",
      "  3.60555128 4.24264069]\n",
      " [1.         1.         1.41421356 1.41421356 1.41421356 2.\n",
      "  2.         2.23606798 2.23606798 2.23606798 2.23606798 2.23606798\n",
      "  2.23606798 2.82842712 2.82842712 3.         3.16227766 3.16227766\n",
      "  3.60555128 3.60555128]]\n"
     ]
    },
    {
     "data": {
      "text/plain": [
       "(5, 20)"
      ]
     },
     "execution_count": 3,
     "metadata": {},
     "output_type": "execute_result"
    }
   ],
   "source": [
    "#menghitung nearest neighbor titik minority terhadap majority berdasarkan euclidean distance\n",
    "from scipy.spatial import distance\n",
    "Y = distance.cdist(minority_points, majority_points, 'euclidean')\n",
    "\n",
    "#mengurutkan hasil secara ascending\n",
    "K = np.argsort(Y)\n",
    "print (Y)\n",
    "# print (\"Urutan data: \\n\", K)\n",
    "Y.sort()\n",
    "print (\"After short: \\n\", Y)\n",
    "Y.shape"
   ]
  },
  {
   "cell_type": "code",
   "execution_count": 4,
   "metadata": {},
   "outputs": [
    {
     "name": "stdout",
     "output_type": "stream",
     "text": [
      "[[ 2  6  7  1]\n",
      " [10  6  7 13]\n",
      " [ 7 11 13  8]\n",
      " [16 10 12  9]\n",
      " [17 13 16 10]]\n"
     ]
    }
   ],
   "source": [
    "print (K[:5,:4])"
   ]
  },
  {
   "cell_type": "code",
   "execution_count": 5,
   "metadata": {},
   "outputs": [],
   "source": [
    "#mengambil 3 terdekat\n",
    "new_K = K[:,:3]"
   ]
  },
  {
   "cell_type": "code",
   "execution_count": 6,
   "metadata": {},
   "outputs": [
    {
     "name": "stdout",
     "output_type": "stream",
     "text": [
      "(5, 3)\n"
     ]
    }
   ],
   "source": [
    "print (new_K.shape)"
   ]
  },
  {
   "cell_type": "code",
   "execution_count": 7,
   "metadata": {},
   "outputs": [
    {
     "data": {
      "text/plain": [
       "array([[ 2,  6,  7],\n",
       "       [10,  6,  7],\n",
       "       [ 7, 11, 13],\n",
       "       [16, 10, 12],\n",
       "       [17, 13, 16]], dtype=int64)"
      ]
     },
     "execution_count": 7,
     "metadata": {},
     "output_type": "execute_result"
    }
   ],
   "source": [
    "new_K"
   ]
  },
  {
   "cell_type": "code",
   "execution_count": 8,
   "metadata": {},
   "outputs": [
    {
     "data": {
      "text/plain": [
       "True"
      ]
     },
     "execution_count": 8,
     "metadata": {},
     "output_type": "execute_result"
    }
   ],
   "source": [
    "new_K.all()"
   ]
  },
  {
   "cell_type": "code",
   "execution_count": 9,
   "metadata": {},
   "outputs": [
    {
     "data": {
      "text/plain": [
       "array([2, 3], dtype=int64)"
      ]
     },
     "execution_count": 9,
     "metadata": {},
     "output_type": "execute_result"
    }
   ],
   "source": [
    "minority_points[0]"
   ]
  },
  {
   "cell_type": "code",
   "execution_count": 10,
   "metadata": {},
   "outputs": [],
   "source": [
    "#mengembalikan value titik 3 nearest neighbor terdekat\n",
    "array_new=np.array(majority_points[K[:,0:3]])"
   ]
  },
  {
   "cell_type": "code",
   "execution_count": 11,
   "metadata": {},
   "outputs": [
    {
     "name": "stdout",
     "output_type": "stream",
     "text": [
      "[[[1 3]\n",
      "  [2 2]\n",
      "  [2 4]]\n",
      "\n",
      " [[3 2]\n",
      "  [2 2]\n",
      "  [2 4]]\n",
      "\n",
      " [[2 4]\n",
      "  [3 5]\n",
      "  [4 4]]\n",
      "\n",
      " [[5 2]\n",
      "  [3 2]\n",
      "  [4 1]]\n",
      "\n",
      " [[5 3]\n",
      "  [4 4]\n",
      "  [5 2]]]\n"
     ]
    }
   ],
   "source": [
    "#majority points yang diambil\n",
    "print(array_new)"
   ]
  },
  {
   "cell_type": "code",
   "execution_count": 12,
   "metadata": {},
   "outputs": [
    {
     "data": {
      "text/plain": [
       "(5, 3, 2)"
      ]
     },
     "execution_count": 12,
     "metadata": {},
     "output_type": "execute_result"
    }
   ],
   "source": [
    "array_new.shape"
   ]
  },
  {
   "cell_type": "code",
   "execution_count": 13,
   "metadata": {},
   "outputs": [],
   "source": [
    "#mengubah bentuknya menjadi 2 dimensi\n",
    "XX= array_new.transpose(0,1,2).reshape(15,2)"
   ]
  },
  {
   "cell_type": "code",
   "execution_count": 14,
   "metadata": {},
   "outputs": [
    {
     "data": {
      "text/plain": [
       "(15, 2)"
      ]
     },
     "execution_count": 14,
     "metadata": {},
     "output_type": "execute_result"
    }
   ],
   "source": [
    "XX.shape"
   ]
  },
  {
   "cell_type": "code",
   "execution_count": 15,
   "metadata": {},
   "outputs": [],
   "source": [
    "#menambahkan 1 kolom baru berisi nilai 0\n",
    "zeros_value = np.zeros((15,1))"
   ]
  },
  {
   "cell_type": "code",
   "execution_count": 16,
   "metadata": {},
   "outputs": [],
   "source": [
    "new_X = np.concatenate ((XX, zeros_value), axis=1)"
   ]
  },
  {
   "cell_type": "code",
   "execution_count": 17,
   "metadata": {},
   "outputs": [
    {
     "name": "stdout",
     "output_type": "stream",
     "text": [
      "[[1. 3. 0.]\n",
      " [2. 2. 0.]\n",
      " [2. 4. 0.]\n",
      " [3. 2. 0.]\n",
      " [2. 2. 0.]\n",
      " [2. 4. 0.]\n",
      " [2. 4. 0.]\n",
      " [3. 5. 0.]\n",
      " [4. 4. 0.]\n",
      " [5. 2. 0.]\n",
      " [3. 2. 0.]\n",
      " [4. 1. 0.]\n",
      " [5. 3. 0.]\n",
      " [4. 4. 0.]\n",
      " [5. 2. 0.]]\n"
     ]
    }
   ],
   "source": [
    "print(new_X)"
   ]
  },
  {
   "cell_type": "code",
   "execution_count": 18,
   "metadata": {},
   "outputs": [
    {
     "data": {
      "text/plain": [
       "(15, 3)"
      ]
     },
     "execution_count": 18,
     "metadata": {},
     "output_type": "execute_result"
    }
   ],
   "source": [
    "new_X.shape"
   ]
  },
  {
   "cell_type": "code",
   "execution_count": 19,
   "metadata": {},
   "outputs": [],
   "source": [
    "#mengambil nilai yang unik/hanya muncul sekali\n",
    "new_X_unique = np.unique(new_X,axis=0)"
   ]
  },
  {
   "cell_type": "code",
   "execution_count": 20,
   "metadata": {},
   "outputs": [
    {
     "data": {
      "text/plain": [
       "array([[1., 3., 0.],\n",
       "       [2., 2., 0.],\n",
       "       [2., 4., 0.],\n",
       "       [3., 2., 0.],\n",
       "       [3., 5., 0.],\n",
       "       [4., 1., 0.],\n",
       "       [4., 4., 0.],\n",
       "       [5., 2., 0.],\n",
       "       [5., 3., 0.]])"
      ]
     },
     "execution_count": 20,
     "metadata": {},
     "output_type": "execute_result"
    }
   ],
   "source": [
    "new_X_unique\n",
    "new_X_unique.shape\n",
    "#mengubah ke bentuk float\n",
    "new_X_unique.astype(float)"
   ]
  },
  {
   "cell_type": "code",
   "execution_count": 21,
   "metadata": {},
   "outputs": [],
   "source": [
    "array_minority = np.array(minority)"
   ]
  },
  {
   "cell_type": "code",
   "execution_count": 22,
   "metadata": {},
   "outputs": [
    {
     "data": {
      "text/plain": [
       "array([[2, 3, 1],\n",
       "       [3, 3, 1],\n",
       "       [3, 4, 1],\n",
       "       [4, 2, 1],\n",
       "       [4, 3, 1]], dtype=int64)"
      ]
     },
     "execution_count": 22,
     "metadata": {},
     "output_type": "execute_result"
    }
   ],
   "source": [
    "array_minority"
   ]
  },
  {
   "cell_type": "code",
   "execution_count": 23,
   "metadata": {},
   "outputs": [
    {
     "data": {
      "text/plain": [
       "array([[2., 3., 1.],\n",
       "       [3., 3., 1.],\n",
       "       [3., 4., 1.],\n",
       "       [4., 2., 1.],\n",
       "       [4., 3., 1.]])"
      ]
     },
     "execution_count": 23,
     "metadata": {},
     "output_type": "execute_result"
    }
   ],
   "source": [
    "array_minority.astype(float)"
   ]
  },
  {
   "cell_type": "code",
   "execution_count": 24,
   "metadata": {},
   "outputs": [],
   "source": [
    "#menggabungkan data majority dan minority\n",
    "joined_resampling = np.concatenate((array_minority,new_X_unique), axis=0)"
   ]
  },
  {
   "cell_type": "code",
   "execution_count": 25,
   "metadata": {},
   "outputs": [
    {
     "data": {
      "text/plain": [
       "(14, 3)"
      ]
     },
     "execution_count": 25,
     "metadata": {},
     "output_type": "execute_result"
    }
   ],
   "source": [
    "joined_resampling.shape"
   ]
  },
  {
   "cell_type": "code",
   "execution_count": 26,
   "metadata": {},
   "outputs": [
    {
     "name": "stdout",
     "output_type": "stream",
     "text": [
      "[[2. 3.]\n",
      " [3. 3.]\n",
      " [3. 4.]\n",
      " [4. 2.]\n",
      " [4. 3.]\n",
      " [1. 3.]\n",
      " [2. 2.]\n",
      " [2. 4.]\n",
      " [3. 2.]\n",
      " [3. 5.]\n",
      " [4. 1.]\n",
      " [4. 4.]\n",
      " [5. 2.]\n",
      " [5. 3.]]\n"
     ]
    },
    {
     "data": {
      "text/plain": [
       "(14, 2)"
      ]
     },
     "execution_count": 26,
     "metadata": {},
     "output_type": "execute_result"
    }
   ],
   "source": [
    "#mengambil 2 kolom feature untuk ditrain\n",
    "X = joined_resampling[:,0:2]\n",
    "print (X)\n",
    "X.shape"
   ]
  },
  {
   "cell_type": "code",
   "execution_count": 27,
   "metadata": {},
   "outputs": [
    {
     "name": "stdout",
     "output_type": "stream",
     "text": [
      "[1. 1. 1. 1. 1. 0. 0. 0. 0. 0. 0. 0. 0. 0.]\n"
     ]
    },
    {
     "data": {
      "text/plain": [
       "(14,)"
      ]
     },
     "execution_count": 27,
     "metadata": {},
     "output_type": "execute_result"
    }
   ],
   "source": [
    "y = joined_resampling[:,2]\n",
    "print (y)\n",
    "y.shape"
   ]
  },
  {
   "cell_type": "code",
   "execution_count": 28,
   "metadata": {},
   "outputs": [
    {
     "name": "stdout",
     "output_type": "stream",
     "text": [
      "Setelah undersampling, komponen data: Counter({0.0: 9, 1.0: 5})\n"
     ]
    }
   ],
   "source": [
    "from collections import Counter\n",
    "\n",
    "print ('Setelah undersampling, komponen data: {}' .format(Counter(y)))"
   ]
  },
  {
   "cell_type": "code",
   "execution_count": 29,
   "metadata": {},
   "outputs": [
    {
     "data": {
      "text/plain": [
       "SVC(C=1, cache_size=200, class_weight=None, coef0=0.0,\n",
       "    decision_function_shape='ovr', degree=3, gamma=2, kernel='rbf', max_iter=-1,\n",
       "    probability=False, random_state=None, shrinking=True, tol=0.001,\n",
       "    verbose=False)"
      ]
     },
     "execution_count": 29,
     "metadata": {},
     "output_type": "execute_result"
    }
   ],
   "source": [
    "from sklearn.svm import SVC\n",
    "\n",
    "svm = SVC(gamma=2, kernel='rbf', C=1)\n",
    "svm.fit(X,y)"
   ]
  },
  {
   "cell_type": "code",
   "execution_count": 30,
   "metadata": {},
   "outputs": [],
   "source": [
    "def plot_decision_function(X, y, clf, ax):\n",
    "    plot_step = 0.02\n",
    "    x_min, x_max = X[:, 0].min() - 1, X[:, 0].max() + 1\n",
    "    y_min, y_max = X[:, 1].min() - 1, X[:, 1].max() + 1\n",
    "    xx, yy = np.meshgrid(np.arange(x_min, x_max, plot_step),\n",
    "                         np.arange(y_min, y_max, plot_step))\n",
    "\n",
    "    Z = clf.predict(np.c_[xx.ravel(), yy.ravel()])\n",
    "    Z = Z.reshape(xx.shape)\n",
    "    ax.contourf(xx, yy, Z, alpha=0.4)\n",
    "    ax.scatter(X[:, 0], X[:, 1], alpha=0.8, c=y, edgecolor='k')"
   ]
  },
  {
   "cell_type": "code",
   "execution_count": 31,
   "metadata": {},
   "outputs": [
    {
     "name": "stdout",
     "output_type": "stream",
     "text": [
      "float64\n"
     ]
    },
    {
     "data": {
      "image/png": "[encoded data removed]",
      "text/plain": [
       "<Figure size 576x360 with 1 Axes>"
      ]
     },
     "metadata": {
      "needs_background": "light"
     },
     "output_type": "display_data"
    }
   ],
   "source": [
    "import matplotlib.pyplot as plt\n",
    "from matplotlib.lines import Line2D\n",
    "\n",
    "fig, ax = plt.subplots(1,figsize=(8,5))\n",
    "\n",
    "classifier = svm.fit(X,y)\n",
    "print (y.dtype)\n",
    "plot_decision_function(X,y,classifier,ax)\n",
    "fig.tight_layout()"
   ]
  },
  {
   "cell_type": "code",
   "execution_count": 32,
   "metadata": {},
   "outputs": [
    {
     "name": "stdout",
     "output_type": "stream",
     "text": [
      "              precision    recall  f1-score   support\n",
      "\n",
      "         0.0       1.00      1.00      1.00         9\n",
      "         1.0       1.00      1.00      1.00         5\n",
      "\n",
      "    accuracy                           1.00        14\n",
      "   macro avg       1.00      1.00      1.00        14\n",
      "weighted avg       1.00      1.00      1.00        14\n",
      "\n"
     ]
    }
   ],
   "source": [
    "from sklearn.metrics import classification_report\n",
    "\n",
    "prediction = svm.predict(X)\n",
    "\n",
    "print (classification_report(y,prediction))"
   ]
  },
  {
   "cell_type": "code",
   "execution_count": 33,
   "metadata": {},
   "outputs": [
    {
     "name": "stdout",
     "output_type": "stream",
     "text": [
      "    x  y  class\n",
      "0   1  1      0\n",
      "1   1  2      0\n",
      "2   1  3      0\n",
      "3   1  4      0\n",
      "4   1  5      0\n",
      "5   2  1      0\n",
      "6   2  2      0\n",
      "7   2  3      1\n",
      "8   2  4      0\n",
      "9   2  5      0\n",
      "10  3  1      0\n",
      "11  3  2      0\n",
      "12  3  3      1\n",
      "13  3  4      1\n",
      "14  3  5      0\n",
      "15  4  1      0\n",
      "16  4  2      1\n",
      "17  4  3      1\n",
      "18  4  4      0\n",
      "19  4  5      0\n",
      "20  5  1      0\n",
      "21  5  2      0\n",
      "22  5  3      0\n",
      "23  5  4      0\n",
      "24  5  5      0\n"
     ]
    }
   ],
   "source": [
    "print (data)"
   ]
  },
  {
   "cell_type": "code",
   "execution_count": 34,
   "metadata": {},
   "outputs": [
    {
     "name": "stdout",
     "output_type": "stream",
     "text": [
      "Run succesfully\n"
     ]
    }
   ],
   "source": [
    "import mysql.connector\n",
    "\n",
    "print ('Run succesfully')"
   ]
  },
  {
   "cell_type": "code",
   "execution_count": null,
   "metadata": {},
   "outputs": [],
   "source": []
  }
 ],
 "metadata": {
  "kernelspec": {
   "display_name": "Python 3",
   "language": "python",
   "name": "python3"
  },
  "language_info": {
   "codemirror_mode": {
    "name": "ipython",
    "version": 3
   },
   "file_extension": ".py",
   "mimetype": "text/x-python",
   "name": "python",
   "nbconvert_exporter": "python",
   "pygments_lexer": "ipython3",
   "version": "3.7.3"
  }
 },
 "nbformat": 4,
 "nbformat_minor": 2
}
